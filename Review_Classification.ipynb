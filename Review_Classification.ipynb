{
  "cells": [
    {
      "cell_type": "markdown",
      "metadata": {
        "id": "mXI1M2BD_Zyl"
      },
      "source": [
        "# Movie Review Classification Using BERT "
      ]
    },
    {
      "attachments": {},
      "cell_type": "markdown",
      "metadata": {
        "id": "SlgXuS0l_h6m"
      },
      "source": [
        "## First: Installing and importing our pre-requisite libraries\n",
        "\n",
        "1. __transformers__: This library is used to utilize the state-of-the-art NLP model BERT\n",
        "2. __pandas__: This utility library is used to manipulate data efficiently and effectively\n",
        "3. __tqdm__: This library is used to track the progress of any ongoing iterable process\n",
        "4. __nltk__: This library is used to pre-process data before giving them to the NLP model\n",
        "5. __torch__: Pytorch library, used to create and manage neural networks\n",
        "\n",
        "To install pytorch on a CUDA-capable machine, run this command in the terminal:\n",
        "```bash\n",
        "pip3 install torch torchvision torchaudio --extra-index-url https://download.pytorch.org/whl/cu116\n",
        "```"
      ]
    },
    {
      "cell_type": "code",
      "execution_count": null,
      "metadata": {
        "colab": {
          "base_uri": "https://localhost:8080/"
        },
        "id": "V9M2wkw-9e7f",
        "outputId": "3463f74d-5b21-40b4-803d-f487f917e488"
      },
      "outputs": [],
      "source": [
        "%pip install transformers\n",
        "%pip install pandas\n",
        "%pip install tqdm\n",
        "%pip install nltk\n",
        "%pip install sklearn"
      ]
    },
    {
      "cell_type": "code",
      "execution_count": null,
      "metadata": {},
      "outputs": [],
      "source": [
        "from transformers import BertTokenizer\n",
        "from transformers import BertModel\n",
        "import pandas as pd\n",
        "import numpy as np\n",
        "import matplotlib.pyplot as plt\n",
        "from sklearn.metrics import classification_report, accuracy_score, confusion_matrix, ConfusionMatrixDisplay\n",
        "from tqdm import tqdm\n",
        "import torch\n",
        "from torch import nn\n",
        "from torch.optim import Adam\n",
        "import splitfolders\n",
        "import nltk\n",
        "from nltk.corpus import stopwords\n",
        "from nltk.stem import WordNetLemmatizer\n",
        "import string\n",
        "import os\n",
        "import glob\n",
        "\n"
      ]
    },
    {
      "attachments": {},
      "cell_type": "markdown",
      "metadata": {},
      "source": [
        "## Text Pre-Processing\n",
        "\n",
        "First, we pre-process our dataset to prepare it for training our model effectively."
      ]
    },
    {
      "attachments": {},
      "cell_type": "markdown",
      "metadata": {
        "id": "9Zy7uidInLxF"
      },
      "source": [
        "### Splitting the folders"
      ]
    },
    {
      "cell_type": "code",
      "execution_count": null,
      "metadata": {},
      "outputs": [],
      "source": [
        "splitfolders.ratio(\"data/balanced\", output=\"data/splits\", seed=2022, ratio=(.7, .1, .2), group_prefix=None, move=False)"
      ]
    },
    {
      "cell_type": "markdown",
      "metadata": {
        "id": "woHZkCREFZ5z"
      },
      "source": [
        "### Cleaning strings in text files"
      ]
    },
    {
      "cell_type": "code",
      "execution_count": null,
      "metadata": {
        "id": "yjzkwu56Fe0F"
      },
      "outputs": [],
      "source": [
        "nltk.download('stopwords')\n",
        "nltk.download('wordnet')\n",
        "stop_words = set(stopwords.words('english'))\n",
        "lemmatizer = WordNetLemmatizer()\n",
        "path=\"data/processed/train/pos\"\n",
        "def lemmatize(path):\n",
        "    files = glob.glob(path)\n",
        "    df = pd.DataFrame(columns=['text', 'class'])\n",
        "    for file in files:\n",
        "        with open(file,encoding=\"utf8\") as f:\n",
        "            text = f.read()\n",
        "            text = text.lower()\n",
        "            text = text.translate(str.maketrans('', '', string.punctuation))\n",
        "            text = text.split()\n",
        "            text = [lemmatizer.lemmatize(word) for word in text if not word in stop_words]\n",
        "            text = ' '.join(text)\n",
        "            df = df.append({'text': text, 'class': \"+\"}, ignore_index=True)\n",
        "    return df\n",
        "\n",
        "df = lemmatize(path + \"/*.txt\")\n",
        "df.to_csv(path + \"/pos_labled.csv\", index=False)"
      ]
    },
    {
      "cell_type": "markdown",
      "metadata": {
        "id": "VllYN-u3Fj88"
      },
      "source": [
        "### combining processed csvs"
      ]
    },
    {
      "cell_type": "code",
      "execution_count": null,
      "metadata": {
        "id": "1yBSSFYiFoMZ"
      },
      "outputs": [],
      "source": [
        "df1 = pd.read_csv(\"data/processed/test/test-neg.csv\")\n",
        "df2 = pd.read_csv(\"data/processed/test/test-pos.csv\")\n",
        "df = pd.concat([df1, df2], ignore_index=True)\n",
        "df = df.sample(frac=1).reset_index(drop=True)\n",
        "df.to_csv(\"data/processed/test/test.csv\", index=False)"
      ]
    },
    {
      "cell_type": "markdown",
      "metadata": {
        "id": "c7S3LNlDFrTM"
      },
      "source": [
        "### merging data split files\n"
      ]
    },
    {
      "cell_type": "code",
      "execution_count": null,
      "metadata": {
        "id": "GQX43B0YFuDs"
      },
      "outputs": [],
      "source": [
        "\n",
        "path=\"data/splits/val/neg\"\n",
        "def collect(path):\n",
        "    files = glob.glob(path)\n",
        "    df = pd.DataFrame(columns=['text', 'class'])\n",
        "    for file in files:\n",
        "        with open(file,encoding=\"utf8\") as f:\n",
        "            text = f.read()\n",
        "            df = df.append({'text': text, 'class': \"-\"}, ignore_index=True)\n",
        "    return df\n",
        "df = collect(path + \"/*.txt\")\n",
        "df.to_csv(path + \"/val-neg.csv\", index=False)"
      ]
    },
    {
      "cell_type": "markdown",
      "metadata": {
        "id": "f8VabhXLFxYv"
      },
      "source": [
        "### combining unprocessed csvs"
      ]
    },
    {
      "cell_type": "code",
      "execution_count": null,
      "metadata": {
        "id": "d1qTc8CMF0B_"
      },
      "outputs": [],
      "source": [
        "df1 = pd.read_csv(\"data/splits/val/val-neg.csv\")\n",
        "df2 = pd.read_csv(\"data/splits/val/val-pos.csv\")\n",
        "df = pd.concat([df1, df2], ignore_index=True)\n",
        "df = df.sample(frac=1).reset_index(drop=True)\n",
        "df.to_csv(\"data/splits/val/val.csv\", index=False)"
      ]
    },
    {
      "attachments": {},
      "cell_type": "markdown",
      "metadata": {
        "id": "XjmHzlbLR-S9"
      },
      "source": [
        "## Reading from the CSVs\n",
        "\n",
        "Now we need to read our processed and unprocessed CSVs into corresponding dataframes using pandas.\n",
        "\n",
        "The reason we read in unprocessed data as well is, we are going to train once with processed and another with unprocessed data and check to see the difference in model competence"
      ]
    },
    {
      "cell_type": "code",
      "execution_count": 11,
      "metadata": {
        "colab": {
          "base_uri": "https://localhost:8080/",
          "height": 380
        },
        "id": "J3ASqiU7SCBQ",
        "outputId": "83487bee-2893-40c4-b70a-640340b4cdf1"
      },
      "outputs": [],
      "source": [
        "# Read-in the processed data\n",
        "df_train_proc = pd.read_csv(\"data/processed/train/train.csv\")\n",
        "df_val_proc = pd.read_csv(\"data/processed/val/val.csv\")\n",
        "df_test_proc = pd.read_csv(\"data/processed/test/test.csv\")\n",
        "\n",
        "# Read-in the unprocessed data\n",
        "def_train_unproc = pd.read_csv(\"data/splits/train/s-train.csv\")\n",
        "def_val_unproc = pd.read_csv(\"data/splits/val/s-val.csv\")\n",
        "def_test_unproc = pd.read_csv(\"data/splits/test/s-test.csv\")"
      ]
    },
    {
      "attachments": {},
      "cell_type": "markdown",
      "metadata": {
        "id": "QFqTIrrh_wme"
      },
      "source": [
        "## Creating classes we're going to work with"
      ]
    },
    {
      "attachments": {},
      "cell_type": "markdown",
      "metadata": {},
      "source": [
        "### Identify global variables we're going to work with\n",
        "\n",
        "- _tokenizer_: BertTokenizer object used to convert text into tokens for BERT to work with\n",
        "- _label_ids_: Dictionary for each label with a corresponding numeric ID"
      ]
    },
    {
      "cell_type": "code",
      "execution_count": null,
      "metadata": {},
      "outputs": [],
      "source": [
        "tokenizer = BertTokenizer.from_pretrained( 'bert-base-cased' )\n",
        "label_ids = {'-' : 0, '+' : 1}"
      ]
    },
    {
      "attachments": {},
      "cell_type": "markdown",
      "metadata": {},
      "source": [
        "### First: Dataset class to hold our data\n",
        "\n",
        "This class will contain lists of processed model-ready data. Note that processing here is different from text pre-processing we've done earlier. This one relates to tokenization and label IDing."
      ]
    },
    {
      "cell_type": "code",
      "execution_count": null,
      "metadata": {
        "colab": {
          "base_uri": "https://localhost:8080/",
          "height": 113,
          "referenced_widgets": [
            "0f7060e958794217a5bccc7e4646a65f",
            "b6214684ea774930a0f43cd828cc6088",
            "e9731c1732cb40c681f55e9177282664",
            "fc35b0ec8ccd42b88176fd3cf1a2619b",
            "864eb4071dfe4003aec3642d6fcbc426",
            "551bd8f23b724561ab3f68b9c456d588",
            "4517b910af1e4320b2f1570d3b5913fc",
            "ae1f1054eb9f43d0a6a8fe7285aed41b",
            "bbf94ffcab9e4ad29b0db05b12d9a562",
            "129c7e7ab33a4545b50d51b7936dfb3d",
            "5a77a66925164e8788185d9f4502f2a2",
            "93dea66b9e2647e0a7c3ca2258e58e92",
            "005f62ff45294fdfa5e3cb0cab734d0b",
            "e00f48ea84104f0ebd58d307dc779ee3",
            "a63b6be5c3e84cd793abf8dd1d8dd337",
            "9561cabd3767445a9a5a81d15e8ab097",
            "3c066f555bc14ba9a53b9494a5ac3675",
            "6a1661fa33b5424693308bab00478afc",
            "b40d6ebe74d94f958273af4daa6fc70f",
            "5131a87d0e434ecd91da6070f9cb512b",
            "0fbe9c07b25d4aa18900fa442ed86f51",
            "ba042bcdd0dd4ed7b500c4d857999e0a",
            "f4e41cce37554579851f0fd9e0b3ad20",
            "284a8f3482ba4bee81d0eee423babe40",
            "284a09ee5c374161aa9202eb117dfc65",
            "8cb9b4451c2c47fa95a006ca59206218",
            "443ff4df1adb4eeeabe444450eb57387",
            "6cec34bb94a84c2f8d1cb03dff37bece",
            "013dcce5c3314cb4b072207f273d3da5",
            "344d014530cc4dbbaae586f073328008",
            "857f1a5e89a24790b39b754a1ed66510",
            "f6101fb5c0e04b2ea717fb299a6f0e93",
            "92801e11ff7b4e3682d95d747cc30e5a"
          ]
        },
        "id": "FCY9tRc3-cW3",
        "outputId": "43cac63c-3f71-4ff3-9852-195bc960cd7d"
      },
      "outputs": [],
      "source": [
        "class Dataset(torch.utils.data.Dataset):\n",
        "\n",
        "    def __init__(self, df):\n",
        "        self.labels = [label_ids[verdict] for verdict in df['class']]\n",
        "        self.texts = [tokenizer(text, padding='max_length', max_length = 512, truncation=True, \n",
        "                                    return_tensors=\"pt\") for text in tqdm( iterable=df['text'], desc='Tokenizing' )]\n",
        "\n",
        "    def classes(self):\n",
        "        return self.labels\n",
        "\n",
        "    def __len__(self):\n",
        "        return len(self.labels)\n",
        "\n",
        "    # Fetch a batch of labels\n",
        "    def get_batch_labels(self, idx):\n",
        "        return np.array(self.labels[idx])\n",
        "\n",
        "    # Fetch a batch of inputs\n",
        "    def get_batch_texts(self, idx):\n",
        "        return self.texts[idx]\n",
        "\n",
        "    def __getitem__(self, idx):\n",
        "        batch_texts = self.get_batch_texts(idx)\n",
        "        batch_y = self.get_batch_labels(idx)\n",
        "        return batch_texts, batch_y"
      ]
    },
    {
      "attachments": {},
      "cell_type": "markdown",
      "metadata": {
        "id": "Fs5uuROLA382"
      },
      "source": [
        "### Second: NeuralNetwork class to hold our model\n",
        "\n",
        "#### <u>Description of our neural network</u>:\n",
        "- The network's input layer takes in 768 inputs corresponding to the vector provided by BERT's pooled output (classification output)\n",
        "- Our network consists of 4 hidden layers with 512, 256, 128, 64 units respectively.\n",
        "- The output layer gives sigmoid function to classify the input vector\n",
        "\n",
        "#### <u>Structure of every layer</u>:\n",
        "Every layer in our neural network consists of three sublayers. Here they are in order:\n",
        "1. __Dropout Layer__: This layer zeros out some parameters passing through it by a given probability. This is useful for avoiding overfitting. Said probability is given through the 'dropout_probability' argument in the constructor.\n",
        "2. __Linear Layer__: This layer contains all of our main computation neurons which give us linear functions for fitting the model.\n",
        "3. __Activation Layer__: This layer is responsible for applying activation function and converting the linear outputs into non-linear, cascadable outputs."
      ]
    },
    {
      "cell_type": "code",
      "execution_count": null,
      "metadata": {
        "id": "HE4nkSZkA9Ky"
      },
      "outputs": [],
      "source": [
        "class NeuralNetwork(nn.Module):\n",
        "\n",
        "    def __init__(self, dropout_probability=0.5):\n",
        "        super(NeuralNetwork, self).__init__()\n",
        "        self.bert = BertModel.from_pretrained('bert-base-cased')\n",
        "\n",
        "        self.network = []\n",
        "\n",
        "        # Input Layer\n",
        "        self.dropout1 = nn.Dropout( dropout )\n",
        "        self.linear1 = nn.Linear( 768, 512 )\n",
        "        self.relu1 = nn.ReLU( self.linear1 )\n",
        "        self.network.append( [self.dropout1, self.linear1, self.relu1] ) \n",
        "\n",
        "        # Hidden Layer\n",
        "        self.dropout2 = nn.Dropout( dropout )\n",
        "        self.linear2 = nn.Linear( 512, 256 )\n",
        "        self.relu2 = nn.ReLU( self.linear2 )\n",
        "        self.network.append( [self.dropout2, self.linear2, self.relu2] )\n",
        "        \n",
        "        # Hidden Layer\n",
        "        self.dropout3 = nn.Dropout( dropout )\n",
        "        self.linear3 = nn.Linear( 256, 128 )\n",
        "        self.relu3 = nn.ReLU( self.linear3 )\n",
        "        self.network.append( [self.dropout3, self.linear3, self.relu3] )\n",
        "\n",
        "        # Hidden Layer\n",
        "        self.dropout4 = nn.Dropout( dropout )\n",
        "        self.linear4 = nn.Linear( 128, 64 )\n",
        "        self.relu4 = nn.ReLU( self.linear4 )\n",
        "        self.network.append( [self.dropout4, self.linear4, self.relu4] )\n",
        "\n",
        "        # Output Layer\n",
        "        self.dropout5 = nn.Dropout( dropout )\n",
        "        self.linear5 = nn.Linear(64, 1)\n",
        "        self.sig5 = nn.Sigmoid()\n",
        "        self.network.append( [self.dropout5, self.linear5, self.sig5] )\n",
        "\n",
        "    def forward(self, input_id, mask):\n",
        "\n",
        "        DROPOUT_LAYER, LINEAR_LAYER, ACTIVATION = 0, 1, 2\n",
        "\n",
        "        _, pooled_output = self.bert( input_ids= input_id, attention_mask=mask, return_dict=False )\n",
        "\n",
        "        layer_input = pooled_output\n",
        "        for layer in self.network:\n",
        "            dropout_output = layer[ DROPOUT_LAYER ]( layer_input )\n",
        "            linear_output = layer[ LINEAR_LAYER ]( dropout_output )\n",
        "            layer_input = layer[ ACTIVATION ]( linear_output )\n",
        "        final_layer = layer_input\n",
        "\n",
        "        return final_layer"
      ]
    },
    {
      "attachments": {},
      "cell_type": "markdown",
      "metadata": {
        "id": "88uQIS9n_7Ek"
      },
      "source": [
        "## Model Training, Validation & Testing\n",
        "\n",
        "Now, we:\n",
        "- Use the validation dataset to tune hyperparameters\n",
        "- Write the function that will train our model using the training dataset\n",
        "- Write the function that will evaluate our model using the test dataset"
      ]
    },
    {
      "attachments": {},
      "cell_type": "markdown",
      "metadata": {},
      "source": [
        "### Model Initialization"
      ]
    },
    {
      "cell_type": "code",
      "execution_count": null,
      "metadata": {},
      "outputs": [],
      "source": [
        "neural_network_model = NeuralNetwork( dropout_probability=0.5 )"
      ]
    },
    {
      "attachments": {},
      "cell_type": "markdown",
      "metadata": {},
      "source": [
        "### Hyperparamter Tuning\n",
        "We use validation data to find the values for our hyperparamters to give us the best model possible.\n",
        "\n",
        "__The hyperparameters we will tune are:__\n",
        "1. Adam Optimizer learning rate\n",
        "2. Number of epochs\n",
        "3. Dropout probability"
      ]
    },
    {
      "attachments": {},
      "cell_type": "markdown",
      "metadata": {},
      "source": [
        "#### First, we tune the Adam Optimizer's learning rate"
      ]
    },
    {
      "cell_type": "code",
      "execution_count": null,
      "metadata": {},
      "outputs": [],
      "source": [
        "def tune_lr(model, train_data, val_data, n_epochs):\n",
        "\n",
        "    use_cuda = torch.cuda.is_available()\n",
        "    device = torch.device(\"cuda\" if use_cuda else \"cpu\")\n",
        "\n",
        "    loss_function = nn.CrossEntropyLoss()\n",
        "\n",
        "    if use_cuda:\n",
        "                model = model.cuda()\n",
        "                loss_function = loss_function.cuda()\n",
        "\n",
        "    train, val = Dataset(train_data), Dataset(val_data)\n",
        "    train_dataloader = torch.utils.data.DataLoader(train, batch_size=2, shuffle=True)\n",
        "    val_dataloader = torch.utils.data.DataLoader(val, batch_size=2)\n",
        "\n",
        "    lr_values = [1e-1, 1e-2, 1e-3, 1e-4, 1e-5, 1e-6, 1e-7]\n",
        "    lr_scores = []\n",
        "\n",
        "    best_lr = lr_values[0]\n",
        "    best_accuracy = 0\n",
        "    for current_lr in lr_values:\n",
        "\n",
        "        optimizer = Adam(model.parameters(), lr=current_lr)\n",
        "\n",
        "        total_accuracy = 0\n",
        "\n",
        "        for epoch_num in range( n_epochs ):\n",
        "\n",
        "                for train_input, train_label in tqdm(iterable=train_dataloader, desc='Tuning lr'):\n",
        "                \n",
        "                    train_label = train_label.to(device)\n",
        "                    mask = train_input['attention_mask'].to(device)\n",
        "                    input_id = train_input['input_ids'].squeeze(1).to(device)\n",
        "\n",
        "                    # Forward Propagation\n",
        "                    output = model(input_id, mask)\n",
        "                    batch_loss = loss_function(output, train_label.long())\n",
        "\n",
        "                    # Backward Propagation\n",
        "                    model.zero_grad()\n",
        "                    batch_loss.backward()\n",
        "                    optimizer.step()\n",
        "\n",
        "                with torch.no_grad():\n",
        "                    total_accuracy = 0\n",
        "                    for val_input, val_label in tqdm(iterable=val_dataloader, desc='Assessing'):\n",
        "\n",
        "                        val_label = val_label.to(device)\n",
        "                        mask = val_input['attention_mask'].to(device)\n",
        "                        input_id = val_input['input_ids'].squeeze(1).to(device)\n",
        "\n",
        "                        output = model(input_id, mask)\n",
        "                        batch_loss = loss_function(output, val_label.long())\n",
        "                        \n",
        "                        acc = (output.argmax(dim=1) == val_label).sum().item()\n",
        "                        total_accuracy += acc\n",
        "\n",
        "        if total_accuracy > best_accuracy:\n",
        "            best_lr = current_lr\n",
        "        lr_scores.append( total_accuracy )\n",
        "        current_lr = current_lr / 10\n",
        "\n",
        "    plt.plot( lr_values, lr_scores )\n",
        "    plt.show()\n",
        "    return best_lr\n",
        "            "
      ]
    },
    {
      "attachments": {},
      "cell_type": "markdown",
      "metadata": {},
      "source": [
        "We will tune with an arbitrary amount of epochs."
      ]
    },
    {
      "cell_type": "code",
      "execution_count": null,
      "metadata": {},
      "outputs": [],
      "source": [
        "LEARNING_RATE = tune_lr(model=neural_network_model, train_data=df_train_proc, val_data=df_val_proc, n_epochs=5)"
      ]
    },
    {
      "attachments": {},
      "cell_type": "markdown",
      "metadata": {},
      "source": [
        "#### Second, we tune the number of epochs"
      ]
    },
    {
      "cell_type": "code",
      "execution_count": null,
      "metadata": {},
      "outputs": [],
      "source": [
        "def tune_epochs(model, train_data, val_data, learning_rate):\n",
        "\n",
        "    use_cuda = torch.cuda.is_available()\n",
        "    device = torch.device(\"cuda\" if use_cuda else \"cpu\")\n",
        "\n",
        "    loss_function = nn.CrossEntropyLoss()\n",
        "    optimizer = Adam(model.parameters(), lr=learning_rate)\n",
        "\n",
        "    train, val = Dataset(train_data), Dataset(val_data)\n",
        "\n",
        "    train_dataloader = torch.utils.data.DataLoader(train, batch_size=2, shuffle=True)\n",
        "    val_dataloader = torch.utils.data.DataLoader(val, batch_size=2)\n",
        "\n",
        "    if use_cuda:\n",
        "            model = model.cuda()\n",
        "            loss_function = loss_function.cuda()\n",
        "\n",
        "\n",
        "    epoch_itr = 10\n",
        "    best_epoch_count = 1\n",
        "    epoch_scores = []\n",
        "    \n",
        "    best_accuracy = 0\n",
        "\n",
        "    for epoch_num in range( 1, epoch_itr + 1 ):\n",
        "\n",
        "            total_accuracy = 0\n",
        "\n",
        "            for train_input, train_label in tqdm(iterable=train_dataloader, desc='Tuning n_epochs'):\n",
        "            \n",
        "                train_label = train_label.to(device)\n",
        "                mask = train_input['attention_mask'].to(device)\n",
        "                input_id = train_input['input_ids'].squeeze(1).to(device)\n",
        "\n",
        "                # Forward Propagation\n",
        "                output = model(input_id, mask)\n",
        "                batch_loss = loss_function(output, train_label.long())\n",
        "\n",
        "                # Backward Propagation\n",
        "                model.zero_grad()\n",
        "                batch_loss.backward()\n",
        "                optimizer.step()\n",
        "\n",
        "            with torch.no_grad():\n",
        "                \n",
        "                for val_input, val_label in tqdm(iterable=val_dataloader, desc='Assessing'):\n",
        "\n",
        "                    val_label = val_label.to(device)\n",
        "                    mask = val_input['attention_mask'].to(device)\n",
        "                    input_id = val_input['input_ids'].squeeze(1).to(device)\n",
        "\n",
        "                    output = model(input_id, mask)\n",
        "                    batch_loss = loss_function(output, val_label.long())\n",
        "                    \n",
        "                    acc = (output.argmax(dim=1) == val_label).sum().item()\n",
        "                    total_accuracy += acc\n",
        "\n",
        "            if total_accuracy > best_accuracy:\n",
        "                best_epoch_count = epoch_num\n",
        "\n",
        "            epoch_scores.append( total_accuracy )\n",
        "    \n",
        "    plt.plot( range(1, epoch_itr+1), epoch_scores )\n",
        "    plt.show()\n",
        "\n",
        "    return best_epoch_count\n",
        "            "
      ]
    },
    {
      "attachments": {},
      "cell_type": "markdown",
      "metadata": {},
      "source": [
        "We will use the tuned learning rate we deducted previously"
      ]
    },
    {
      "cell_type": "code",
      "execution_count": null,
      "metadata": {},
      "outputs": [],
      "source": [
        "N_EPOCHS = tune_epochs(model=neural_network_model, train_data=df_train_proc, val_data=df_val_proc, learning_rate=LEARNING_RATE)"
      ]
    },
    {
      "attachments": {},
      "cell_type": "markdown",
      "metadata": {},
      "source": [
        "### Training the model using the training data"
      ]
    },
    {
      "cell_type": "code",
      "execution_count": null,
      "metadata": {
        "id": "1wryf3fN_-D8"
      },
      "outputs": [],
      "source": [
        "def train(model, train_data, val_data, learning_rate, n_epochs):\n",
        "\n",
        "    use_cuda = torch.cuda.is_available()\n",
        "    device = torch.device(\"cuda\" if use_cuda else \"cpu\")\n",
        "\n",
        "    loss_function = nn.CrossEntropyLoss()\n",
        "    optimizer = Adam(model.parameters(), lr=learning_rate)\n",
        "\n",
        "    print('\\n------------------------------------')\n",
        "    print('Accelerator Name: ' + str(device))\n",
        "    print('Learning Rate   : ' + str(learning_rate))\n",
        "    print('No. of Epochs   : ' + str(n_epochs))\n",
        "    print('------------------------------------', flush=True)\n",
        "\n",
        "    train, val = Dataset(train_data), Dataset(val_data)\n",
        "    train_dataloader = torch.utils.data.DataLoader(train, batch_size=2, shuffle=True)\n",
        "    val_dataloader = torch.utils.data.DataLoader(val, batch_size=2)\n",
        "\n",
        "    if use_cuda:\n",
        "            model = model.cuda()\n",
        "            loss_function = loss_function.cuda()\n",
        "\n",
        "\n",
        "    for epoch_num in range(n_epochs):\n",
        "\n",
        "            for train_input, train_label in tqdm(iterable=train_dataloader, desc='Epoch #' + str(epoch_num)):\n",
        "              \n",
        "                train_label = train_label.to(device)\n",
        "                mask = train_input['attention_mask'].to(device)\n",
        "                input_id = train_input['input_ids'].squeeze(1).to(device)\n",
        "\n",
        "                # Forward Propagation\n",
        "                output = model(input_id, mask)\n",
        "                \n",
        "                batch_loss = loss_function(output, train_label.long())\n",
        "                total_loss_train += batch_loss.item()\n",
        "                \n",
        "                acc = (output.argmax(dim=1) == train_label).sum().item()\n",
        "                total_acc_train += acc\n",
        "\n",
        "                # Backward Propagation\n",
        "                model.zero_grad()\n",
        "                batch_loss.backward()\n",
        "                optimizer.step()\n",
        "\n",
        "    print('\\nModel training complete.')\n",
        "    print('Saving model state dictionary to disk...')\n",
        "    torch.save( model.state_dict(), \"model.pt\" )\n",
        "    print('All done :)')"
      ]
    },
    {
      "attachments": {},
      "cell_type": "markdown",
      "metadata": {},
      "source": [
        "### Evaluating the model using the test data"
      ]
    },
    {
      "cell_type": "code",
      "execution_count": null,
      "metadata": {},
      "outputs": [],
      "source": [
        "def evaluate(model, test_data):\n",
        "\n",
        "    \n",
        "    test = Dataset(test_data)\n",
        "    test_dataloader = torch.utils.data.DataLoader(test, batch_size=2)\n",
        "\n",
        "    use_cuda = torch.cuda.is_available()\n",
        "    device = torch.device(\"cuda\" if use_cuda else \"cpu\")\n",
        "    if use_cuda:\n",
        "        model = model.cuda()\n",
        "\n",
        "    predicted_labels, actual_labels = [], []\n",
        "\n",
        "    with torch.no_grad():\n",
        "        for test_input, test_label in tqdm(iterable=test_dataloader, desc='Evaluating'):\n",
        "\n",
        "              test_label = test_label.to(device)\n",
        "              mask = test_input['attention_mask'].to(device)\n",
        "              input_id = test_input['input_ids'].squeeze(1).to(device)\n",
        "\n",
        "              output = model(input_id, mask)\n",
        "\n",
        "              predicted_labels.append( output.argmax(dim=1) )\n",
        "              actual_labels.append( test_label )\n",
        "\n",
        "    \n",
        "    print(classification_report(actual_labels, predicted_labels, target_names=['-', '+']))\n",
        "    ConfusionMatrixDisplay(confusion_matrix(actual_labels, predicted_labels), display_labels=['g', 'h']).plot()\n",
        "    plt.show()"
      ]
    },
    {
      "attachments": {},
      "cell_type": "markdown",
      "metadata": {
        "id": "BTTXdPWqASKT"
      },
      "source": [
        "## Now we witness the magic :)\n",
        "\n",
        "At this point, we've tuned all our hyperparameters and are ready to test the model for real"
      ]
    },
    {
      "attachments": {},
      "cell_type": "markdown",
      "metadata": {},
      "source": [
        "### Training the model"
      ]
    },
    {
      "cell_type": "code",
      "execution_count": null,
      "metadata": {
        "colab": {
          "base_uri": "https://localhost:8080/",
          "height": 235
        },
        "id": "jHcxvuJtAW1D",
        "outputId": "a9ef1625-a8a0-4108-fe8c-be930c150a8f"
      },
      "outputs": [],
      "source": [
        "train( model=neural_network_model, train_data=df_train_proc, val_data=df_val_proc, learning_rate=LEARNING_RATE, n_epochs=N_EPOCHS )"
      ]
    },
    {
      "attachments": {},
      "cell_type": "markdown",
      "metadata": {},
      "source": [
        "### Evaluating the model"
      ]
    },
    {
      "attachments": {},
      "cell_type": "markdown",
      "metadata": {},
      "source": [
        "##### OPTIONAL"
      ]
    },
    {
      "cell_type": "code",
      "execution_count": null,
      "metadata": {},
      "outputs": [],
      "source": [
        "### OPTIONAL ###\n",
        "# Loads the model state dictionary from disk.\n",
        "# Run this cell if the trained model is not in main memory (has not been trained in the same runtime)\n",
        "neural_network_model = NeuralNetwork( dropout_probability=0.5 )\n",
        "neural_network_model.load_state_dict( torch.load(\"model.pt\") )\n",
        "neural_network_model.eval()"
      ]
    },
    {
      "attachments": {},
      "cell_type": "markdown",
      "metadata": {},
      "source": [
        "#### Evaluate the model\n",
        "The moment of truth! :D"
      ]
    },
    {
      "cell_type": "code",
      "execution_count": null,
      "metadata": {},
      "outputs": [],
      "source": [
        "evaluate( model=neural_network_model, test_data=df_test_proc )"
      ]
    }
  ],
  "metadata": {
    "accelerator": "GPU",
    "colab": {
      "provenance": []
    },
    "gpuClass": "standard",
    "kernelspec": {
      "display_name": "Python 3",
      "language": "python",
      "name": "python3"
    },
    "language_info": {
      "codemirror_mode": {
        "name": "ipython",
        "version": 3
      },
      "file_extension": ".py",
      "mimetype": "text/x-python",
      "name": "python",
      "nbconvert_exporter": "python",
      "pygments_lexer": "ipython3",
      "version": "3.11.0"
    },
    "vscode": {
      "interpreter": {
        "hash": "92e83001589606ab90afa46080212dcb734f30c24d2f66d52b7ead7b1f127be3"
      }
    },
    "widgets": {
      "application/vnd.jupyter.widget-state+json": {
        "005f62ff45294fdfa5e3cb0cab734d0b": {
          "model_module": "@jupyter-widgets/controls",
          "model_module_version": "1.5.0",
          "model_name": "HTMLModel",
          "state": {
            "_dom_classes": [],
            "_model_module": "@jupyter-widgets/controls",
            "_model_module_version": "1.5.0",
            "_model_name": "HTMLModel",
            "_view_count": null,
            "_view_module": "@jupyter-widgets/controls",
            "_view_module_version": "1.5.0",
            "_view_name": "HTMLView",
            "description": "",
            "description_tooltip": null,
            "layout": "IPY_MODEL_3c066f555bc14ba9a53b9494a5ac3675",
            "placeholder": "​",
            "style": "IPY_MODEL_6a1661fa33b5424693308bab00478afc",
            "value": "Downloading: 100%"
          }
        },
        "013dcce5c3314cb4b072207f273d3da5": {
          "model_module": "@jupyter-widgets/controls",
          "model_module_version": "1.5.0",
          "model_name": "DescriptionStyleModel",
          "state": {
            "_model_module": "@jupyter-widgets/controls",
            "_model_module_version": "1.5.0",
            "_model_name": "DescriptionStyleModel",
            "_view_count": null,
            "_view_module": "@jupyter-widgets/base",
            "_view_module_version": "1.2.0",
            "_view_name": "StyleView",
            "description_width": ""
          }
        },
        "0f7060e958794217a5bccc7e4646a65f": {
          "model_module": "@jupyter-widgets/controls",
          "model_module_version": "1.5.0",
          "model_name": "HBoxModel",
          "state": {
            "_dom_classes": [],
            "_model_module": "@jupyter-widgets/controls",
            "_model_module_version": "1.5.0",
            "_model_name": "HBoxModel",
            "_view_count": null,
            "_view_module": "@jupyter-widgets/controls",
            "_view_module_version": "1.5.0",
            "_view_name": "HBoxView",
            "box_style": "",
            "children": [
              "IPY_MODEL_b6214684ea774930a0f43cd828cc6088",
              "IPY_MODEL_e9731c1732cb40c681f55e9177282664",
              "IPY_MODEL_fc35b0ec8ccd42b88176fd3cf1a2619b"
            ],
            "layout": "IPY_MODEL_864eb4071dfe4003aec3642d6fcbc426"
          }
        },
        "0fbe9c07b25d4aa18900fa442ed86f51": {
          "model_module": "@jupyter-widgets/base",
          "model_module_version": "1.2.0",
          "model_name": "LayoutModel",
          "state": {
            "_model_module": "@jupyter-widgets/base",
            "_model_module_version": "1.2.0",
            "_model_name": "LayoutModel",
            "_view_count": null,
            "_view_module": "@jupyter-widgets/base",
            "_view_module_version": "1.2.0",
            "_view_name": "LayoutView",
            "align_content": null,
            "align_items": null,
            "align_self": null,
            "border": null,
            "bottom": null,
            "display": null,
            "flex": null,
            "flex_flow": null,
            "grid_area": null,
            "grid_auto_columns": null,
            "grid_auto_flow": null,
            "grid_auto_rows": null,
            "grid_column": null,
            "grid_gap": null,
            "grid_row": null,
            "grid_template_areas": null,
            "grid_template_columns": null,
            "grid_template_rows": null,
            "height": null,
            "justify_content": null,
            "justify_items": null,
            "left": null,
            "margin": null,
            "max_height": null,
            "max_width": null,
            "min_height": null,
            "min_width": null,
            "object_fit": null,
            "object_position": null,
            "order": null,
            "overflow": null,
            "overflow_x": null,
            "overflow_y": null,
            "padding": null,
            "right": null,
            "top": null,
            "visibility": null,
            "width": null
          }
        },
        "129c7e7ab33a4545b50d51b7936dfb3d": {
          "model_module": "@jupyter-widgets/base",
          "model_module_version": "1.2.0",
          "model_name": "LayoutModel",
          "state": {
            "_model_module": "@jupyter-widgets/base",
            "_model_module_version": "1.2.0",
            "_model_name": "LayoutModel",
            "_view_count": null,
            "_view_module": "@jupyter-widgets/base",
            "_view_module_version": "1.2.0",
            "_view_name": "LayoutView",
            "align_content": null,
            "align_items": null,
            "align_self": null,
            "border": null,
            "bottom": null,
            "display": null,
            "flex": null,
            "flex_flow": null,
            "grid_area": null,
            "grid_auto_columns": null,
            "grid_auto_flow": null,
            "grid_auto_rows": null,
            "grid_column": null,
            "grid_gap": null,
            "grid_row": null,
            "grid_template_areas": null,
            "grid_template_columns": null,
            "grid_template_rows": null,
            "height": null,
            "justify_content": null,
            "justify_items": null,
            "left": null,
            "margin": null,
            "max_height": null,
            "max_width": null,
            "min_height": null,
            "min_width": null,
            "object_fit": null,
            "object_position": null,
            "order": null,
            "overflow": null,
            "overflow_x": null,
            "overflow_y": null,
            "padding": null,
            "right": null,
            "top": null,
            "visibility": null,
            "width": null
          }
        },
        "284a09ee5c374161aa9202eb117dfc65": {
          "model_module": "@jupyter-widgets/controls",
          "model_module_version": "1.5.0",
          "model_name": "FloatProgressModel",
          "state": {
            "_dom_classes": [],
            "_model_module": "@jupyter-widgets/controls",
            "_model_module_version": "1.5.0",
            "_model_name": "FloatProgressModel",
            "_view_count": null,
            "_view_module": "@jupyter-widgets/controls",
            "_view_module_version": "1.5.0",
            "_view_name": "ProgressView",
            "bar_style": "success",
            "description": "",
            "description_tooltip": null,
            "layout": "IPY_MODEL_344d014530cc4dbbaae586f073328008",
            "max": 570,
            "min": 0,
            "orientation": "horizontal",
            "style": "IPY_MODEL_857f1a5e89a24790b39b754a1ed66510",
            "value": 570
          }
        },
        "284a8f3482ba4bee81d0eee423babe40": {
          "model_module": "@jupyter-widgets/controls",
          "model_module_version": "1.5.0",
          "model_name": "HTMLModel",
          "state": {
            "_dom_classes": [],
            "_model_module": "@jupyter-widgets/controls",
            "_model_module_version": "1.5.0",
            "_model_name": "HTMLModel",
            "_view_count": null,
            "_view_module": "@jupyter-widgets/controls",
            "_view_module_version": "1.5.0",
            "_view_name": "HTMLView",
            "description": "",
            "description_tooltip": null,
            "layout": "IPY_MODEL_6cec34bb94a84c2f8d1cb03dff37bece",
            "placeholder": "​",
            "style": "IPY_MODEL_013dcce5c3314cb4b072207f273d3da5",
            "value": "Downloading: 100%"
          }
        },
        "344d014530cc4dbbaae586f073328008": {
          "model_module": "@jupyter-widgets/base",
          "model_module_version": "1.2.0",
          "model_name": "LayoutModel",
          "state": {
            "_model_module": "@jupyter-widgets/base",
            "_model_module_version": "1.2.0",
            "_model_name": "LayoutModel",
            "_view_count": null,
            "_view_module": "@jupyter-widgets/base",
            "_view_module_version": "1.2.0",
            "_view_name": "LayoutView",
            "align_content": null,
            "align_items": null,
            "align_self": null,
            "border": null,
            "bottom": null,
            "display": null,
            "flex": null,
            "flex_flow": null,
            "grid_area": null,
            "grid_auto_columns": null,
            "grid_auto_flow": null,
            "grid_auto_rows": null,
            "grid_column": null,
            "grid_gap": null,
            "grid_row": null,
            "grid_template_areas": null,
            "grid_template_columns": null,
            "grid_template_rows": null,
            "height": null,
            "justify_content": null,
            "justify_items": null,
            "left": null,
            "margin": null,
            "max_height": null,
            "max_width": null,
            "min_height": null,
            "min_width": null,
            "object_fit": null,
            "object_position": null,
            "order": null,
            "overflow": null,
            "overflow_x": null,
            "overflow_y": null,
            "padding": null,
            "right": null,
            "top": null,
            "visibility": null,
            "width": null
          }
        },
        "3c066f555bc14ba9a53b9494a5ac3675": {
          "model_module": "@jupyter-widgets/base",
          "model_module_version": "1.2.0",
          "model_name": "LayoutModel",
          "state": {
            "_model_module": "@jupyter-widgets/base",
            "_model_module_version": "1.2.0",
            "_model_name": "LayoutModel",
            "_view_count": null,
            "_view_module": "@jupyter-widgets/base",
            "_view_module_version": "1.2.0",
            "_view_name": "LayoutView",
            "align_content": null,
            "align_items": null,
            "align_self": null,
            "border": null,
            "bottom": null,
            "display": null,
            "flex": null,
            "flex_flow": null,
            "grid_area": null,
            "grid_auto_columns": null,
            "grid_auto_flow": null,
            "grid_auto_rows": null,
            "grid_column": null,
            "grid_gap": null,
            "grid_row": null,
            "grid_template_areas": null,
            "grid_template_columns": null,
            "grid_template_rows": null,
            "height": null,
            "justify_content": null,
            "justify_items": null,
            "left": null,
            "margin": null,
            "max_height": null,
            "max_width": null,
            "min_height": null,
            "min_width": null,
            "object_fit": null,
            "object_position": null,
            "order": null,
            "overflow": null,
            "overflow_x": null,
            "overflow_y": null,
            "padding": null,
            "right": null,
            "top": null,
            "visibility": null,
            "width": null
          }
        },
        "443ff4df1adb4eeeabe444450eb57387": {
          "model_module": "@jupyter-widgets/base",
          "model_module_version": "1.2.0",
          "model_name": "LayoutModel",
          "state": {
            "_model_module": "@jupyter-widgets/base",
            "_model_module_version": "1.2.0",
            "_model_name": "LayoutModel",
            "_view_count": null,
            "_view_module": "@jupyter-widgets/base",
            "_view_module_version": "1.2.0",
            "_view_name": "LayoutView",
            "align_content": null,
            "align_items": null,
            "align_self": null,
            "border": null,
            "bottom": null,
            "display": null,
            "flex": null,
            "flex_flow": null,
            "grid_area": null,
            "grid_auto_columns": null,
            "grid_auto_flow": null,
            "grid_auto_rows": null,
            "grid_column": null,
            "grid_gap": null,
            "grid_row": null,
            "grid_template_areas": null,
            "grid_template_columns": null,
            "grid_template_rows": null,
            "height": null,
            "justify_content": null,
            "justify_items": null,
            "left": null,
            "margin": null,
            "max_height": null,
            "max_width": null,
            "min_height": null,
            "min_width": null,
            "object_fit": null,
            "object_position": null,
            "order": null,
            "overflow": null,
            "overflow_x": null,
            "overflow_y": null,
            "padding": null,
            "right": null,
            "top": null,
            "visibility": null,
            "width": null
          }
        },
        "4517b910af1e4320b2f1570d3b5913fc": {
          "model_module": "@jupyter-widgets/controls",
          "model_module_version": "1.5.0",
          "model_name": "DescriptionStyleModel",
          "state": {
            "_model_module": "@jupyter-widgets/controls",
            "_model_module_version": "1.5.0",
            "_model_name": "DescriptionStyleModel",
            "_view_count": null,
            "_view_module": "@jupyter-widgets/base",
            "_view_module_version": "1.2.0",
            "_view_name": "StyleView",
            "description_width": ""
          }
        },
        "5131a87d0e434ecd91da6070f9cb512b": {
          "model_module": "@jupyter-widgets/controls",
          "model_module_version": "1.5.0",
          "model_name": "ProgressStyleModel",
          "state": {
            "_model_module": "@jupyter-widgets/controls",
            "_model_module_version": "1.5.0",
            "_model_name": "ProgressStyleModel",
            "_view_count": null,
            "_view_module": "@jupyter-widgets/base",
            "_view_module_version": "1.2.0",
            "_view_name": "StyleView",
            "bar_color": null,
            "description_width": ""
          }
        },
        "551bd8f23b724561ab3f68b9c456d588": {
          "model_module": "@jupyter-widgets/base",
          "model_module_version": "1.2.0",
          "model_name": "LayoutModel",
          "state": {
            "_model_module": "@jupyter-widgets/base",
            "_model_module_version": "1.2.0",
            "_model_name": "LayoutModel",
            "_view_count": null,
            "_view_module": "@jupyter-widgets/base",
            "_view_module_version": "1.2.0",
            "_view_name": "LayoutView",
            "align_content": null,
            "align_items": null,
            "align_self": null,
            "border": null,
            "bottom": null,
            "display": null,
            "flex": null,
            "flex_flow": null,
            "grid_area": null,
            "grid_auto_columns": null,
            "grid_auto_flow": null,
            "grid_auto_rows": null,
            "grid_column": null,
            "grid_gap": null,
            "grid_row": null,
            "grid_template_areas": null,
            "grid_template_columns": null,
            "grid_template_rows": null,
            "height": null,
            "justify_content": null,
            "justify_items": null,
            "left": null,
            "margin": null,
            "max_height": null,
            "max_width": null,
            "min_height": null,
            "min_width": null,
            "object_fit": null,
            "object_position": null,
            "order": null,
            "overflow": null,
            "overflow_x": null,
            "overflow_y": null,
            "padding": null,
            "right": null,
            "top": null,
            "visibility": null,
            "width": null
          }
        },
        "5a77a66925164e8788185d9f4502f2a2": {
          "model_module": "@jupyter-widgets/controls",
          "model_module_version": "1.5.0",
          "model_name": "DescriptionStyleModel",
          "state": {
            "_model_module": "@jupyter-widgets/controls",
            "_model_module_version": "1.5.0",
            "_model_name": "DescriptionStyleModel",
            "_view_count": null,
            "_view_module": "@jupyter-widgets/base",
            "_view_module_version": "1.2.0",
            "_view_name": "StyleView",
            "description_width": ""
          }
        },
        "6a1661fa33b5424693308bab00478afc": {
          "model_module": "@jupyter-widgets/controls",
          "model_module_version": "1.5.0",
          "model_name": "DescriptionStyleModel",
          "state": {
            "_model_module": "@jupyter-widgets/controls",
            "_model_module_version": "1.5.0",
            "_model_name": "DescriptionStyleModel",
            "_view_count": null,
            "_view_module": "@jupyter-widgets/base",
            "_view_module_version": "1.2.0",
            "_view_name": "StyleView",
            "description_width": ""
          }
        },
        "6cec34bb94a84c2f8d1cb03dff37bece": {
          "model_module": "@jupyter-widgets/base",
          "model_module_version": "1.2.0",
          "model_name": "LayoutModel",
          "state": {
            "_model_module": "@jupyter-widgets/base",
            "_model_module_version": "1.2.0",
            "_model_name": "LayoutModel",
            "_view_count": null,
            "_view_module": "@jupyter-widgets/base",
            "_view_module_version": "1.2.0",
            "_view_name": "LayoutView",
            "align_content": null,
            "align_items": null,
            "align_self": null,
            "border": null,
            "bottom": null,
            "display": null,
            "flex": null,
            "flex_flow": null,
            "grid_area": null,
            "grid_auto_columns": null,
            "grid_auto_flow": null,
            "grid_auto_rows": null,
            "grid_column": null,
            "grid_gap": null,
            "grid_row": null,
            "grid_template_areas": null,
            "grid_template_columns": null,
            "grid_template_rows": null,
            "height": null,
            "justify_content": null,
            "justify_items": null,
            "left": null,
            "margin": null,
            "max_height": null,
            "max_width": null,
            "min_height": null,
            "min_width": null,
            "object_fit": null,
            "object_position": null,
            "order": null,
            "overflow": null,
            "overflow_x": null,
            "overflow_y": null,
            "padding": null,
            "right": null,
            "top": null,
            "visibility": null,
            "width": null
          }
        },
        "857f1a5e89a24790b39b754a1ed66510": {
          "model_module": "@jupyter-widgets/controls",
          "model_module_version": "1.5.0",
          "model_name": "ProgressStyleModel",
          "state": {
            "_model_module": "@jupyter-widgets/controls",
            "_model_module_version": "1.5.0",
            "_model_name": "ProgressStyleModel",
            "_view_count": null,
            "_view_module": "@jupyter-widgets/base",
            "_view_module_version": "1.2.0",
            "_view_name": "StyleView",
            "bar_color": null,
            "description_width": ""
          }
        },
        "864eb4071dfe4003aec3642d6fcbc426": {
          "model_module": "@jupyter-widgets/base",
          "model_module_version": "1.2.0",
          "model_name": "LayoutModel",
          "state": {
            "_model_module": "@jupyter-widgets/base",
            "_model_module_version": "1.2.0",
            "_model_name": "LayoutModel",
            "_view_count": null,
            "_view_module": "@jupyter-widgets/base",
            "_view_module_version": "1.2.0",
            "_view_name": "LayoutView",
            "align_content": null,
            "align_items": null,
            "align_self": null,
            "border": null,
            "bottom": null,
            "display": null,
            "flex": null,
            "flex_flow": null,
            "grid_area": null,
            "grid_auto_columns": null,
            "grid_auto_flow": null,
            "grid_auto_rows": null,
            "grid_column": null,
            "grid_gap": null,
            "grid_row": null,
            "grid_template_areas": null,
            "grid_template_columns": null,
            "grid_template_rows": null,
            "height": null,
            "justify_content": null,
            "justify_items": null,
            "left": null,
            "margin": null,
            "max_height": null,
            "max_width": null,
            "min_height": null,
            "min_width": null,
            "object_fit": null,
            "object_position": null,
            "order": null,
            "overflow": null,
            "overflow_x": null,
            "overflow_y": null,
            "padding": null,
            "right": null,
            "top": null,
            "visibility": null,
            "width": null
          }
        },
        "8cb9b4451c2c47fa95a006ca59206218": {
          "model_module": "@jupyter-widgets/controls",
          "model_module_version": "1.5.0",
          "model_name": "HTMLModel",
          "state": {
            "_dom_classes": [],
            "_model_module": "@jupyter-widgets/controls",
            "_model_module_version": "1.5.0",
            "_model_name": "HTMLModel",
            "_view_count": null,
            "_view_module": "@jupyter-widgets/controls",
            "_view_module_version": "1.5.0",
            "_view_name": "HTMLView",
            "description": "",
            "description_tooltip": null,
            "layout": "IPY_MODEL_f6101fb5c0e04b2ea717fb299a6f0e93",
            "placeholder": "​",
            "style": "IPY_MODEL_92801e11ff7b4e3682d95d747cc30e5a",
            "value": " 570/570 [00:00&lt;00:00, 32.7kB/s]"
          }
        },
        "92801e11ff7b4e3682d95d747cc30e5a": {
          "model_module": "@jupyter-widgets/controls",
          "model_module_version": "1.5.0",
          "model_name": "DescriptionStyleModel",
          "state": {
            "_model_module": "@jupyter-widgets/controls",
            "_model_module_version": "1.5.0",
            "_model_name": "DescriptionStyleModel",
            "_view_count": null,
            "_view_module": "@jupyter-widgets/base",
            "_view_module_version": "1.2.0",
            "_view_name": "StyleView",
            "description_width": ""
          }
        },
        "93dea66b9e2647e0a7c3ca2258e58e92": {
          "model_module": "@jupyter-widgets/controls",
          "model_module_version": "1.5.0",
          "model_name": "HBoxModel",
          "state": {
            "_dom_classes": [],
            "_model_module": "@jupyter-widgets/controls",
            "_model_module_version": "1.5.0",
            "_model_name": "HBoxModel",
            "_view_count": null,
            "_view_module": "@jupyter-widgets/controls",
            "_view_module_version": "1.5.0",
            "_view_name": "HBoxView",
            "box_style": "",
            "children": [
              "IPY_MODEL_005f62ff45294fdfa5e3cb0cab734d0b",
              "IPY_MODEL_e00f48ea84104f0ebd58d307dc779ee3",
              "IPY_MODEL_a63b6be5c3e84cd793abf8dd1d8dd337"
            ],
            "layout": "IPY_MODEL_9561cabd3767445a9a5a81d15e8ab097"
          }
        },
        "9561cabd3767445a9a5a81d15e8ab097": {
          "model_module": "@jupyter-widgets/base",
          "model_module_version": "1.2.0",
          "model_name": "LayoutModel",
          "state": {
            "_model_module": "@jupyter-widgets/base",
            "_model_module_version": "1.2.0",
            "_model_name": "LayoutModel",
            "_view_count": null,
            "_view_module": "@jupyter-widgets/base",
            "_view_module_version": "1.2.0",
            "_view_name": "LayoutView",
            "align_content": null,
            "align_items": null,
            "align_self": null,
            "border": null,
            "bottom": null,
            "display": null,
            "flex": null,
            "flex_flow": null,
            "grid_area": null,
            "grid_auto_columns": null,
            "grid_auto_flow": null,
            "grid_auto_rows": null,
            "grid_column": null,
            "grid_gap": null,
            "grid_row": null,
            "grid_template_areas": null,
            "grid_template_columns": null,
            "grid_template_rows": null,
            "height": null,
            "justify_content": null,
            "justify_items": null,
            "left": null,
            "margin": null,
            "max_height": null,
            "max_width": null,
            "min_height": null,
            "min_width": null,
            "object_fit": null,
            "object_position": null,
            "order": null,
            "overflow": null,
            "overflow_x": null,
            "overflow_y": null,
            "padding": null,
            "right": null,
            "top": null,
            "visibility": null,
            "width": null
          }
        },
        "a63b6be5c3e84cd793abf8dd1d8dd337": {
          "model_module": "@jupyter-widgets/controls",
          "model_module_version": "1.5.0",
          "model_name": "HTMLModel",
          "state": {
            "_dom_classes": [],
            "_model_module": "@jupyter-widgets/controls",
            "_model_module_version": "1.5.0",
            "_model_name": "HTMLModel",
            "_view_count": null,
            "_view_module": "@jupyter-widgets/controls",
            "_view_module_version": "1.5.0",
            "_view_name": "HTMLView",
            "description": "",
            "description_tooltip": null,
            "layout": "IPY_MODEL_0fbe9c07b25d4aa18900fa442ed86f51",
            "placeholder": "​",
            "style": "IPY_MODEL_ba042bcdd0dd4ed7b500c4d857999e0a",
            "value": " 29.0/29.0 [00:00&lt;00:00, 628B/s]"
          }
        },
        "ae1f1054eb9f43d0a6a8fe7285aed41b": {
          "model_module": "@jupyter-widgets/base",
          "model_module_version": "1.2.0",
          "model_name": "LayoutModel",
          "state": {
            "_model_module": "@jupyter-widgets/base",
            "_model_module_version": "1.2.0",
            "_model_name": "LayoutModel",
            "_view_count": null,
            "_view_module": "@jupyter-widgets/base",
            "_view_module_version": "1.2.0",
            "_view_name": "LayoutView",
            "align_content": null,
            "align_items": null,
            "align_self": null,
            "border": null,
            "bottom": null,
            "display": null,
            "flex": null,
            "flex_flow": null,
            "grid_area": null,
            "grid_auto_columns": null,
            "grid_auto_flow": null,
            "grid_auto_rows": null,
            "grid_column": null,
            "grid_gap": null,
            "grid_row": null,
            "grid_template_areas": null,
            "grid_template_columns": null,
            "grid_template_rows": null,
            "height": null,
            "justify_content": null,
            "justify_items": null,
            "left": null,
            "margin": null,
            "max_height": null,
            "max_width": null,
            "min_height": null,
            "min_width": null,
            "object_fit": null,
            "object_position": null,
            "order": null,
            "overflow": null,
            "overflow_x": null,
            "overflow_y": null,
            "padding": null,
            "right": null,
            "top": null,
            "visibility": null,
            "width": null
          }
        },
        "b40d6ebe74d94f958273af4daa6fc70f": {
          "model_module": "@jupyter-widgets/base",
          "model_module_version": "1.2.0",
          "model_name": "LayoutModel",
          "state": {
            "_model_module": "@jupyter-widgets/base",
            "_model_module_version": "1.2.0",
            "_model_name": "LayoutModel",
            "_view_count": null,
            "_view_module": "@jupyter-widgets/base",
            "_view_module_version": "1.2.0",
            "_view_name": "LayoutView",
            "align_content": null,
            "align_items": null,
            "align_self": null,
            "border": null,
            "bottom": null,
            "display": null,
            "flex": null,
            "flex_flow": null,
            "grid_area": null,
            "grid_auto_columns": null,
            "grid_auto_flow": null,
            "grid_auto_rows": null,
            "grid_column": null,
            "grid_gap": null,
            "grid_row": null,
            "grid_template_areas": null,
            "grid_template_columns": null,
            "grid_template_rows": null,
            "height": null,
            "justify_content": null,
            "justify_items": null,
            "left": null,
            "margin": null,
            "max_height": null,
            "max_width": null,
            "min_height": null,
            "min_width": null,
            "object_fit": null,
            "object_position": null,
            "order": null,
            "overflow": null,
            "overflow_x": null,
            "overflow_y": null,
            "padding": null,
            "right": null,
            "top": null,
            "visibility": null,
            "width": null
          }
        },
        "b6214684ea774930a0f43cd828cc6088": {
          "model_module": "@jupyter-widgets/controls",
          "model_module_version": "1.5.0",
          "model_name": "HTMLModel",
          "state": {
            "_dom_classes": [],
            "_model_module": "@jupyter-widgets/controls",
            "_model_module_version": "1.5.0",
            "_model_name": "HTMLModel",
            "_view_count": null,
            "_view_module": "@jupyter-widgets/controls",
            "_view_module_version": "1.5.0",
            "_view_name": "HTMLView",
            "description": "",
            "description_tooltip": null,
            "layout": "IPY_MODEL_551bd8f23b724561ab3f68b9c456d588",
            "placeholder": "​",
            "style": "IPY_MODEL_4517b910af1e4320b2f1570d3b5913fc",
            "value": "Downloading: 100%"
          }
        },
        "ba042bcdd0dd4ed7b500c4d857999e0a": {
          "model_module": "@jupyter-widgets/controls",
          "model_module_version": "1.5.0",
          "model_name": "DescriptionStyleModel",
          "state": {
            "_model_module": "@jupyter-widgets/controls",
            "_model_module_version": "1.5.0",
            "_model_name": "DescriptionStyleModel",
            "_view_count": null,
            "_view_module": "@jupyter-widgets/base",
            "_view_module_version": "1.2.0",
            "_view_name": "StyleView",
            "description_width": ""
          }
        },
        "bbf94ffcab9e4ad29b0db05b12d9a562": {
          "model_module": "@jupyter-widgets/controls",
          "model_module_version": "1.5.0",
          "model_name": "ProgressStyleModel",
          "state": {
            "_model_module": "@jupyter-widgets/controls",
            "_model_module_version": "1.5.0",
            "_model_name": "ProgressStyleModel",
            "_view_count": null,
            "_view_module": "@jupyter-widgets/base",
            "_view_module_version": "1.2.0",
            "_view_name": "StyleView",
            "bar_color": null,
            "description_width": ""
          }
        },
        "e00f48ea84104f0ebd58d307dc779ee3": {
          "model_module": "@jupyter-widgets/controls",
          "model_module_version": "1.5.0",
          "model_name": "FloatProgressModel",
          "state": {
            "_dom_classes": [],
            "_model_module": "@jupyter-widgets/controls",
            "_model_module_version": "1.5.0",
            "_model_name": "FloatProgressModel",
            "_view_count": null,
            "_view_module": "@jupyter-widgets/controls",
            "_view_module_version": "1.5.0",
            "_view_name": "ProgressView",
            "bar_style": "success",
            "description": "",
            "description_tooltip": null,
            "layout": "IPY_MODEL_b40d6ebe74d94f958273af4daa6fc70f",
            "max": 29,
            "min": 0,
            "orientation": "horizontal",
            "style": "IPY_MODEL_5131a87d0e434ecd91da6070f9cb512b",
            "value": 29
          }
        },
        "e9731c1732cb40c681f55e9177282664": {
          "model_module": "@jupyter-widgets/controls",
          "model_module_version": "1.5.0",
          "model_name": "FloatProgressModel",
          "state": {
            "_dom_classes": [],
            "_model_module": "@jupyter-widgets/controls",
            "_model_module_version": "1.5.0",
            "_model_name": "FloatProgressModel",
            "_view_count": null,
            "_view_module": "@jupyter-widgets/controls",
            "_view_module_version": "1.5.0",
            "_view_name": "ProgressView",
            "bar_style": "success",
            "description": "",
            "description_tooltip": null,
            "layout": "IPY_MODEL_ae1f1054eb9f43d0a6a8fe7285aed41b",
            "max": 213450,
            "min": 0,
            "orientation": "horizontal",
            "style": "IPY_MODEL_bbf94ffcab9e4ad29b0db05b12d9a562",
            "value": 213450
          }
        },
        "f4e41cce37554579851f0fd9e0b3ad20": {
          "model_module": "@jupyter-widgets/controls",
          "model_module_version": "1.5.0",
          "model_name": "HBoxModel",
          "state": {
            "_dom_classes": [],
            "_model_module": "@jupyter-widgets/controls",
            "_model_module_version": "1.5.0",
            "_model_name": "HBoxModel",
            "_view_count": null,
            "_view_module": "@jupyter-widgets/controls",
            "_view_module_version": "1.5.0",
            "_view_name": "HBoxView",
            "box_style": "",
            "children": [
              "IPY_MODEL_284a8f3482ba4bee81d0eee423babe40",
              "IPY_MODEL_284a09ee5c374161aa9202eb117dfc65",
              "IPY_MODEL_8cb9b4451c2c47fa95a006ca59206218"
            ],
            "layout": "IPY_MODEL_443ff4df1adb4eeeabe444450eb57387"
          }
        },
        "f6101fb5c0e04b2ea717fb299a6f0e93": {
          "model_module": "@jupyter-widgets/base",
          "model_module_version": "1.2.0",
          "model_name": "LayoutModel",
          "state": {
            "_model_module": "@jupyter-widgets/base",
            "_model_module_version": "1.2.0",
            "_model_name": "LayoutModel",
            "_view_count": null,
            "_view_module": "@jupyter-widgets/base",
            "_view_module_version": "1.2.0",
            "_view_name": "LayoutView",
            "align_content": null,
            "align_items": null,
            "align_self": null,
            "border": null,
            "bottom": null,
            "display": null,
            "flex": null,
            "flex_flow": null,
            "grid_area": null,
            "grid_auto_columns": null,
            "grid_auto_flow": null,
            "grid_auto_rows": null,
            "grid_column": null,
            "grid_gap": null,
            "grid_row": null,
            "grid_template_areas": null,
            "grid_template_columns": null,
            "grid_template_rows": null,
            "height": null,
            "justify_content": null,
            "justify_items": null,
            "left": null,
            "margin": null,
            "max_height": null,
            "max_width": null,
            "min_height": null,
            "min_width": null,
            "object_fit": null,
            "object_position": null,
            "order": null,
            "overflow": null,
            "overflow_x": null,
            "overflow_y": null,
            "padding": null,
            "right": null,
            "top": null,
            "visibility": null,
            "width": null
          }
        },
        "fc35b0ec8ccd42b88176fd3cf1a2619b": {
          "model_module": "@jupyter-widgets/controls",
          "model_module_version": "1.5.0",
          "model_name": "HTMLModel",
          "state": {
            "_dom_classes": [],
            "_model_module": "@jupyter-widgets/controls",
            "_model_module_version": "1.5.0",
            "_model_name": "HTMLModel",
            "_view_count": null,
            "_view_module": "@jupyter-widgets/controls",
            "_view_module_version": "1.5.0",
            "_view_name": "HTMLView",
            "description": "",
            "description_tooltip": null,
            "layout": "IPY_MODEL_129c7e7ab33a4545b50d51b7936dfb3d",
            "placeholder": "​",
            "style": "IPY_MODEL_5a77a66925164e8788185d9f4502f2a2",
            "value": " 213k/213k [00:00&lt;00:00, 334kB/s]"
          }
        }
      }
    }
  },
  "nbformat": 4,
  "nbformat_minor": 0
}
