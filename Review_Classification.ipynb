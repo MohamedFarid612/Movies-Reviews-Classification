{
  "cells": [
    {
      "cell_type": "markdown",
      "metadata": {
        "id": "mXI1M2BD_Zyl"
      },
      "source": [
        "# Movie Review Classification Using State-of-the-art NLP Model BERT "
      ]
    },
    {
      "cell_type": "markdown",
      "metadata": {
        "id": "SlgXuS0l_h6m"
      },
      "source": [
        "## First: Installing and importing our pre-requisite libraries\n",
        "\n",
        "1. __transformers__: This library is used to utilize the state-of-the-art NLP model BERT\n",
        "2. __pandas__: This utility library is used to manipulate data efficiently and effectively\n",
        "3. __tqdm__: This library is used to track the progress of any ongoing iterable process\n",
        "4. __nltk__: This library is used to pre-process data before giving them to the NLP model\n",
        "5. __torch__: Pytorch library, used to create and manage neural networks\n",
        "\n",
        "To install pytorch on a CUDA-capable machine, run this command in the terminal:\n",
        "```bash\n",
        "pip3 install torch torchvision torchaudio --extra-index-url https://download.pytorch.org/whl/cu116\n",
        "```"
      ]
    },
    {
      "cell_type": "code",
      "execution_count": null,
      "metadata": {
        "colab": {
          "base_uri": "https://localhost:8080/"
        },
        "id": "V9M2wkw-9e7f",
        "outputId": "9b5ec812-9781-46e7-d480-9df610af3bb5"
      },
      "outputs": [
        {
          "name": "stdout",
          "output_type": "stream",
          "text": [
            "Looking in indexes: https://pypi.org/simple, https://us-python.pkg.dev/colab-wheels/public/simple/\n",
            "Collecting transformers\n",
            "  Downloading transformers-4.25.1-py3-none-any.whl (5.8 MB)\n",
            "\u001b[K     |████████████████████████████████| 5.8 MB 33.6 MB/s \n",
            "\u001b[?25hRequirement already satisfied: requests in /usr/local/lib/python3.8/dist-packages (from transformers) (2.23.0)\n",
            "Requirement already satisfied: tqdm>=4.27 in /usr/local/lib/python3.8/dist-packages (from transformers) (4.64.1)\n",
            "Requirement already satisfied: regex!=2019.12.17 in /usr/local/lib/python3.8/dist-packages (from transformers) (2022.6.2)\n",
            "Collecting tokenizers!=0.11.3,<0.14,>=0.11.1\n",
            "  Downloading tokenizers-0.13.2-cp38-cp38-manylinux_2_17_x86_64.manylinux2014_x86_64.whl (7.6 MB)\n",
            "\u001b[K     |████████████████████████████████| 7.6 MB 60.4 MB/s \n",
            "\u001b[?25hRequirement already satisfied: packaging>=20.0 in /usr/local/lib/python3.8/dist-packages (from transformers) (21.3)\n",
            "Collecting huggingface-hub<1.0,>=0.10.0\n",
            "  Downloading huggingface_hub-0.11.1-py3-none-any.whl (182 kB)\n",
            "\u001b[K     |████████████████████████████████| 182 kB 83.3 MB/s \n",
            "\u001b[?25hRequirement already satisfied: pyyaml>=5.1 in /usr/local/lib/python3.8/dist-packages (from transformers) (6.0)\n",
            "Requirement already satisfied: numpy>=1.17 in /usr/local/lib/python3.8/dist-packages (from transformers) (1.21.6)\n",
            "Requirement already satisfied: filelock in /usr/local/lib/python3.8/dist-packages (from transformers) (3.8.2)\n",
            "Requirement already satisfied: typing-extensions>=3.7.4.3 in /usr/local/lib/python3.8/dist-packages (from huggingface-hub<1.0,>=0.10.0->transformers) (4.4.0)\n",
            "Requirement already satisfied: pyparsing!=3.0.5,>=2.0.2 in /usr/local/lib/python3.8/dist-packages (from packaging>=20.0->transformers) (3.0.9)\n",
            "Requirement already satisfied: chardet<4,>=3.0.2 in /usr/local/lib/python3.8/dist-packages (from requests->transformers) (3.0.4)\n",
            "Requirement already satisfied: certifi>=2017.4.17 in /usr/local/lib/python3.8/dist-packages (from requests->transformers) (2022.12.7)\n",
            "Requirement already satisfied: urllib3!=1.25.0,!=1.25.1,<1.26,>=1.21.1 in /usr/local/lib/python3.8/dist-packages (from requests->transformers) (1.24.3)\n",
            "Requirement already satisfied: idna<3,>=2.5 in /usr/local/lib/python3.8/dist-packages (from requests->transformers) (2.10)\n",
            "Installing collected packages: tokenizers, huggingface-hub, transformers\n",
            "Successfully installed huggingface-hub-0.11.1 tokenizers-0.13.2 transformers-4.25.1\n",
            "Looking in indexes: https://pypi.org/simple, https://us-python.pkg.dev/colab-wheels/public/simple/\n",
            "Requirement already satisfied: pandas in /usr/local/lib/python3.8/dist-packages (1.3.5)\n",
            "Requirement already satisfied: numpy>=1.17.3 in /usr/local/lib/python3.8/dist-packages (from pandas) (1.21.6)\n",
            "Requirement already satisfied: pytz>=2017.3 in /usr/local/lib/python3.8/dist-packages (from pandas) (2022.6)\n",
            "Requirement already satisfied: python-dateutil>=2.7.3 in /usr/local/lib/python3.8/dist-packages (from pandas) (2.8.2)\n",
            "Requirement already satisfied: six>=1.5 in /usr/local/lib/python3.8/dist-packages (from python-dateutil>=2.7.3->pandas) (1.15.0)\n",
            "Looking in indexes: https://pypi.org/simple, https://us-python.pkg.dev/colab-wheels/public/simple/\n",
            "Requirement already satisfied: tqdm in /usr/local/lib/python3.8/dist-packages (4.64.1)\n",
            "Looking in indexes: https://pypi.org/simple, https://us-python.pkg.dev/colab-wheels/public/simple/\n",
            "Requirement already satisfied: nltk in /usr/local/lib/python3.8/dist-packages (3.7)\n",
            "Requirement already satisfied: regex>=2021.8.3 in /usr/local/lib/python3.8/dist-packages (from nltk) (2022.6.2)\n",
            "Requirement already satisfied: joblib in /usr/local/lib/python3.8/dist-packages (from nltk) (1.2.0)\n",
            "Requirement already satisfied: tqdm in /usr/local/lib/python3.8/dist-packages (from nltk) (4.64.1)\n",
            "Requirement already satisfied: click in /usr/local/lib/python3.8/dist-packages (from nltk) (7.1.2)\n",
            "Looking in indexes: https://pypi.org/simple, https://us-python.pkg.dev/colab-wheels/public/simple/\n",
            "Collecting sklearn\n",
            "  Downloading sklearn-0.0.post1.tar.gz (3.6 kB)\n",
            "\u001b[33mWARNING: Discarding https://files.pythonhosted.org/packages/db/1e/af4e9cded5093a92e60d4ae7149a02c7427661b2db66c8ea4d34b17864a2/sklearn-0.0.post1.tar.gz#sha256=76b9ed1623775168657b86b5fe966d45752e5c87f528de6240c38923b94147c5 (from https://pypi.org/simple/sklearn/). Command errored out with exit status 1: python setup.py egg_info Check the logs for full command output.\u001b[0m\n",
            "  Downloading sklearn-0.0.tar.gz (1.1 kB)\n",
            "Requirement already satisfied: scikit-learn in /usr/local/lib/python3.8/dist-packages (from sklearn) (1.0.2)\n",
            "Requirement already satisfied: threadpoolctl>=2.0.0 in /usr/local/lib/python3.8/dist-packages (from scikit-learn->sklearn) (3.1.0)\n",
            "Requirement already satisfied: scipy>=1.1.0 in /usr/local/lib/python3.8/dist-packages (from scikit-learn->sklearn) (1.7.3)\n",
            "Requirement already satisfied: numpy>=1.14.6 in /usr/local/lib/python3.8/dist-packages (from scikit-learn->sklearn) (1.21.6)\n",
            "Requirement already satisfied: joblib>=0.11 in /usr/local/lib/python3.8/dist-packages (from scikit-learn->sklearn) (1.2.0)\n",
            "Building wheels for collected packages: sklearn\n",
            "  Building wheel for sklearn (setup.py) ... \u001b[?25l\u001b[?25hdone\n",
            "  Created wheel for sklearn: filename=sklearn-0.0-py2.py3-none-any.whl size=1309 sha256=cff561da656f00d1500538aee760b080f72fc758c911208bc1b4d882043f9658\n",
            "  Stored in directory: /root/.cache/pip/wheels/22/0b/40/fd3f795caaa1fb4c6cb738bc1f56100be1e57da95849bfc897\n",
            "Successfully built sklearn\n",
            "Installing collected packages: sklearn\n",
            "Successfully installed sklearn-0.0\n"
          ]
        }
      ],
      "source": [
        "%pip install transformers\n",
        "%pip install pandas\n",
        "%pip install tqdm\n",
        "%pip install nltk\n",
        "%pip install sklearn"
      ]
    },
    {
      "cell_type": "code",
      "execution_count": null,
      "metadata": {
        "id": "MHiYlT49puKX"
      },
      "outputs": [],
      "source": [
        "from transformers import BertTokenizer\n",
        "from transformers import BertModel\n",
        "import pandas as pd\n",
        "import numpy as np\n",
        "import matplotlib.pyplot as plt\n",
        "from sklearn.metrics import classification_report, accuracy_score, confusion_matrix, ConfusionMatrixDisplay\n",
        "from tqdm import tqdm\n",
        "import torch\n",
        "from torch import nn\n",
        "from torch.optim import Adam\n",
        "# import splitfolders\n",
        "import nltk\n",
        "from nltk.corpus import stopwords\n",
        "from nltk.stem import WordNetLemmatizer\n",
        "import string\n",
        "import os\n",
        "import glob\n",
        "\n"
      ]
    },
    {
      "cell_type": "markdown",
      "metadata": {
        "id": "muviY-I2puKZ"
      },
      "source": [
        "## Text Pre-Processing\n",
        "\n",
        "First, we pre-process our dataset to prepare it for training our model effectively."
      ]
    },
    {
      "cell_type": "markdown",
      "metadata": {
        "id": "9Zy7uidInLxF"
      },
      "source": [
        "### Splitting the folders"
      ]
    },
    {
      "cell_type": "code",
      "execution_count": null,
      "metadata": {
        "id": "4x--LITnpuKa"
      },
      "outputs": [],
      "source": [
        "splitfolders.ratio(\"data/balanced\", output=\"data/splits\", seed=2022, ratio=(.7, .1, .2), group_prefix=None, move=False)"
      ]
    },
    {
      "cell_type": "markdown",
      "metadata": {
        "id": "woHZkCREFZ5z"
      },
      "source": [
        "### Cleaning strings in text files"
      ]
    },
    {
      "cell_type": "code",
      "execution_count": null,
      "metadata": {
        "id": "yjzkwu56Fe0F"
      },
      "outputs": [],
      "source": [
        "nltk.download('stopwords')\n",
        "nltk.download('wordnet')\n",
        "stop_words = set(stopwords.words('english'))\n",
        "lemmatizer = WordNetLemmatizer()\n",
        "path=\"data/processed/train/pos\"\n",
        "def lemmatize(path):\n",
        "    files = glob.glob(path)\n",
        "    df = pd.DataFrame(columns=['text', 'class'])\n",
        "    for file in files:\n",
        "        with open(file,encoding=\"utf8\") as f:\n",
        "            text = f.read()\n",
        "            text = text.lower()\n",
        "            text = text.translate(str.maketrans('', '', string.punctuation))\n",
        "            text = text.split()\n",
        "            text = [lemmatizer.lemmatize(word) for word in text if not word in stop_words]\n",
        "            text = ' '.join(text)\n",
        "            df = df.append({'text': text, 'class': \"+\"}, ignore_index=True)\n",
        "    return df\n",
        "\n",
        "df = lemmatize(path + \"/*.txt\")\n",
        "df.to_csv(path + \"/pos_labled.csv\", index=False)"
      ]
    },
    {
      "cell_type": "markdown",
      "metadata": {
        "id": "VllYN-u3Fj88"
      },
      "source": [
        "### combining processed csvs"
      ]
    },
    {
      "cell_type": "code",
      "execution_count": null,
      "metadata": {
        "id": "1yBSSFYiFoMZ"
      },
      "outputs": [],
      "source": [
        "df1 = pd.read_csv(\"data/processed/test/test-neg.csv\")\n",
        "df2 = pd.read_csv(\"data/processed/test/test-pos.csv\")\n",
        "df = pd.concat([df1, df2], ignore_index=True)\n",
        "df = df.sample(frac=1).reset_index(drop=True)\n",
        "df.to_csv(\"data/processed/test/test.csv\", index=False)"
      ]
    },
    {
      "cell_type": "markdown",
      "metadata": {
        "id": "c7S3LNlDFrTM"
      },
      "source": [
        "### merging data split files\n"
      ]
    },
    {
      "cell_type": "code",
      "execution_count": null,
      "metadata": {
        "id": "GQX43B0YFuDs"
      },
      "outputs": [],
      "source": [
        "\n",
        "path=\"data/splits/val/neg\"\n",
        "def collect(path):\n",
        "    files = glob.glob(path)\n",
        "    df = pd.DataFrame(columns=['text', 'class'])\n",
        "    for file in files:\n",
        "        with open(file,encoding=\"utf8\") as f:\n",
        "            text = f.read()\n",
        "            df = df.append({'text': text, 'class': \"-\"}, ignore_index=True)\n",
        "    return df\n",
        "df = collect(path + \"/*.txt\")\n",
        "df.to_csv(path + \"/val-neg.csv\", index=False)"
      ]
    },
    {
      "cell_type": "markdown",
      "metadata": {
        "id": "f8VabhXLFxYv"
      },
      "source": [
        "### combining unprocessed csvs"
      ]
    },
    {
      "cell_type": "code",
      "execution_count": null,
      "metadata": {
        "id": "d1qTc8CMF0B_"
      },
      "outputs": [],
      "source": [
        "df1 = pd.read_csv(\"data/splits/val/val-neg.csv\")\n",
        "df2 = pd.read_csv(\"data/splits/val/val-pos.csv\")\n",
        "df = pd.concat([df1, df2], ignore_index=True)\n",
        "df = df.sample(frac=1).reset_index(drop=True)\n",
        "df.to_csv(\"data/splits/val/val.csv\", index=False)"
      ]
    },
    {
      "cell_type": "markdown",
      "metadata": {
        "id": "XjmHzlbLR-S9"
      },
      "source": [
        "## Reading from the CSVs\n",
        "\n",
        "Now we need to read our processed and unprocessed CSVs into corresponding dataframes using pandas.\n",
        "\n",
        "The reason we read in unprocessed data as well is, we are going to train once with processed and another with unprocessed data and check to see the difference in model competence"
      ]
    },
    {
      "cell_type": "code",
      "execution_count": null,
      "metadata": {
        "id": "J3ASqiU7SCBQ"
      },
      "outputs": [],
      "source": [
        "# Read-in the processed data\n",
        "df_train_proc = pd.read_csv(\"data/processed/train/train.csv\")\n",
        "df_val_proc = pd.read_csv(\"data/processed/val/val.csv\")\n",
        "df_test_proc = pd.read_csv(\"data/processed/test/test.csv\")\n",
        "\n",
        "# Read-in the unprocessed data\n",
        "df_train_raw = pd.read_csv(\"data/splits/train/s-train.csv\")\n",
        "df_val_raw = pd.read_csv(\"data/splits/val/s-val.csv\")\n",
        "df_test_raw = pd.read_csv(\"data/splits/test/s-test.csv\")"
      ]
    },
    {
      "cell_type": "markdown",
      "metadata": {
        "id": "QFqTIrrh_wme"
      },
      "source": [
        "## Creating classes we're going to work with"
      ]
    },
    {
      "cell_type": "markdown",
      "metadata": {
        "id": "DJEzy_nqpuKj"
      },
      "source": [
        "### Identify global variables we're going to work with\n",
        "\n",
        "- _tokenizer_: BertTokenizer object used to convert text into tokens for BERT to work with\n",
        "- _label_ids_: Dictionary for each label with a corresponding numeric ID"
      ]
    },
    {
      "cell_type": "code",
      "execution_count": null,
      "metadata": {
        "colab": {
          "base_uri": "https://localhost:8080/",
          "height": 113,
          "referenced_widgets": [
            "66358252cede43ceaac58481631127b5",
            "1be2446637d249208d2dd5d9722bc887",
            "b8605c403f8445fba66113367858c402",
            "b6fb6acaf0ed4b32a772e50d9fac27de",
            "967c7431a0304acdb93e6f5790ff2052",
            "8e4fd033f354400482c2e8eca54577ec",
            "de5607cbb45d462cab81a8af01cb3a5f",
            "1d88e1819311485d91ef349e8c71583a",
            "d9c2400aec0d47dfbe2cc6cfccddbd85",
            "6137dba1098f4b3c9ae7af4fd74f0d48",
            "54469b0f451d47d5abfcb875f443e886",
            "681297c67bd544479fa239d5451c476c",
            "9ec779d3cd064f79961ba41ca0a12c5b",
            "3d65f550f0cf4e9589a3a32eb6e2fc71",
            "71bb3b9e1ba441cd8c6fc1cfd54adc75",
            "d1b7b0dbb45544cfa649dbcf62cc49e8",
            "57dc545ff08949e4bf41f6c4316c8d51",
            "2740eb9e228f471784041830597ae456",
            "82432496437a40bf849ac88eda21cc90",
            "d08bfbcd2fac4700a7a1656a18f2ce98",
            "1a35c00fd7694d7da48c764875f5369d",
            "a612f52388634a6fa416decc31cb0e6a",
            "092d230671fc416a995f95052d88a577",
            "45bdb40d3e9747668db236fcf63eeb3b",
            "da32c765dbc74c1fab342276e38d5598",
            "77ed1c265bc54bc78e0f060cfbbd920d",
            "faabb42a1fef40818a0bbffab6fbfb2e",
            "a1895eb6d28b4c0382edca8eecbcff1d",
            "cf2ff764d10c4a13890c4ce254fe835e",
            "177bdf7bd65c4d44a6b1d04371f3717d",
            "6ad9d229a35e434696274971552a6629",
            "e8a5225d453f46909c778439b3ad3d44",
            "0d78972e48ac4001a616a866e1e8e339"
          ]
        },
        "id": "7CFnnoZXpuKk",
        "outputId": "3c667613-3625-4add-cc18-a8c81fcbe5bb"
      },
      "outputs": [
        {
          "data": {
            "application/vnd.jupyter.widget-view+json": {
              "model_id": "66358252cede43ceaac58481631127b5",
              "version_major": 2,
              "version_minor": 0
            },
            "text/plain": [
              "Downloading:   0%|          | 0.00/213k [00:00<?, ?B/s]"
            ]
          },
          "metadata": {},
          "output_type": "display_data"
        },
        {
          "data": {
            "application/vnd.jupyter.widget-view+json": {
              "model_id": "681297c67bd544479fa239d5451c476c",
              "version_major": 2,
              "version_minor": 0
            },
            "text/plain": [
              "Downloading:   0%|          | 0.00/29.0 [00:00<?, ?B/s]"
            ]
          },
          "metadata": {},
          "output_type": "display_data"
        },
        {
          "data": {
            "application/vnd.jupyter.widget-view+json": {
              "model_id": "092d230671fc416a995f95052d88a577",
              "version_major": 2,
              "version_minor": 0
            },
            "text/plain": [
              "Downloading:   0%|          | 0.00/570 [00:00<?, ?B/s]"
            ]
          },
          "metadata": {},
          "output_type": "display_data"
        }
      ],
      "source": [
        "tokenizer = BertTokenizer.from_pretrained( 'bert-base-cased' )\n",
        "label_ids = {'-' : 0, '+' : 1}"
      ]
    },
    {
      "cell_type": "markdown",
      "metadata": {
        "id": "diu0G60tpuKk"
      },
      "source": [
        "### First: Dataset class to hold our data\n",
        "\n",
        "This class will contain lists of processed model-ready data. Note that processing here is different from text pre-processing we've done earlier. This one relates to tokenization and label IDing."
      ]
    },
    {
      "cell_type": "code",
      "execution_count": null,
      "metadata": {
        "id": "FCY9tRc3-cW3"
      },
      "outputs": [],
      "source": [
        "class Dataset(torch.utils.data.Dataset):\n",
        "\n",
        "    def __init__(self, df):\n",
        "        self.labels = [label_ids[verdict] for verdict in df['class']]\n",
        "        self.texts = [tokenizer(text, padding='max_length', max_length = 512, truncation=True, \n",
        "                                    return_tensors=\"pt\") for text in tqdm( iterable=df['text'], desc='Tokenizing' )]\n",
        "\n",
        "    def classes(self):\n",
        "        return self.labels\n",
        "\n",
        "    def __len__(self):\n",
        "        return len(self.labels)\n",
        "\n",
        "    # Fetch a batch of labels\n",
        "    def get_batch_labels(self, idx):\n",
        "        return np.array(self.labels[idx])\n",
        "\n",
        "    # Fetch a batch of inputs\n",
        "    def get_batch_texts(self, idx):\n",
        "        return self.texts[idx]\n",
        "\n",
        "    def __getitem__(self, idx):\n",
        "        batch_texts = self.get_batch_texts(idx)\n",
        "        batch_y = self.get_batch_labels(idx)\n",
        "        return batch_texts, batch_y"
      ]
    },
    {
      "cell_type": "markdown",
      "metadata": {
        "id": "Fs5uuROLA382"
      },
      "source": [
        "### Second: NeuralNetwork class to hold our model\n",
        "\n",
        "#### <u>Description of our neural network</u>:\n",
        "- The network's input layer takes in 768 inputs corresponding to the vector provided by BERT's pooled output (classification output)\n",
        "- Our network consists of 4 hidden layers with 512, 256, 128, 64 units respectively.\n",
        "- The output layer gives sigmoid function to classify the input vector\n",
        "\n",
        "#### <u>Structure of every layer</u>:\n",
        "Every layer in our neural network consists of three sublayers. Here they are in order:\n",
        "1. __Dropout Layer__: This layer zeros out some parameters passing through it by a given probability. This is useful for avoiding overfitting. Said probability is given through the 'dropout_probability' argument in the constructor.\n",
        "2. __Linear Layer__: This layer contains all of our main computation neurons which give us linear functions for fitting the model.\n",
        "3. __Activation Layer__: This layer is responsible for applying activation function and converting the linear outputs into non-linear, cascadable outputs."
      ]
    },
    {
      "cell_type": "code",
      "execution_count": null,
      "metadata": {
        "id": "HE4nkSZkA9Ky"
      },
      "outputs": [],
      "source": [
        "class NeuralNetwork(nn.Module):\n",
        "\n",
        "    def __init__(self, dropout_probability=0.4):\n",
        "        super(NeuralNetwork, self).__init__()\n",
        "        self.bert = BertModel.from_pretrained('bert-base-cased')\n",
        "\n",
        "        self.network = []\n",
        "\n",
        "        # Input Layer to Hidden layer 1\n",
        "        self.dropout1 = nn.Dropout( 0.0 )\n",
        "        self.linear1 = nn.Linear( 768, 512 )\n",
        "        self.relu1 = nn.ReLU( self.linear1 )\n",
        "        self.network.append( [self.dropout1, self.linear1, self.relu1] ) \n",
        "\n",
        "        # Hidden layer 1 to Hidden layer 2\n",
        "        self.dropout2 = nn.Dropout( dropout_probability )\n",
        "        self.linear2 = nn.Linear( 512, 256 )\n",
        "        self.relu2 = nn.ReLU( self.linear2 )\n",
        "        self.network.append( [self.dropout2, self.linear2, self.relu2] )\n",
        "        \n",
        "        # Hidden layer 2 to Hidden layer 3\n",
        "        self.dropout3 = nn.Dropout( dropout_probability )\n",
        "        self.linear3 = nn.Linear( 256, 128 )\n",
        "        self.relu3 = nn.ReLU( self.linear3 )\n",
        "        self.network.append( [self.dropout3, self.linear3, self.relu3] )\n",
        "\n",
        "        # Hidden layer 3 to Hidden layer 4\n",
        "        self.dropout4 = nn.Dropout( dropout_probability )\n",
        "        self.linear4 = nn.Linear( 128, 64 )\n",
        "        self.relu4 = nn.ReLU( self.linear4 )\n",
        "        self.network.append( [self.dropout4, self.linear4, self.relu4] )\n",
        "\n",
        "        # Hidden Layer 4 to Output\n",
        "        self.dropout5 = nn.Dropout( dropout_probability )\n",
        "        self.linear5 = nn.Linear( 64, 2 )\n",
        "        self.relu5 = nn.ReLU( self.linear5 )\n",
        "        self.network.append( [self.dropout5, self.linear5, self.relu5] )\n",
        "\n",
        "        # Output Layer\n",
        "        self.dropout6 = nn.Dropout( 0.0 )\n",
        "        self.linear6 = nn.Linear( 2, 1 )\n",
        "        self.output_layer = nn.Sigmoid()\n",
        "        self.network.append( [self.dropout6, self.linear6, self.output_layer] )\n",
        "\n",
        "    def forward(self, input_id, mask):\n",
        "\n",
        "        DROPOUT_LAYER, LINEAR_LAYER, ACTIVATION_LAYER = 0, 1, 2\n",
        "\n",
        "        _, pooled_output = self.bert( input_ids= input_id, attention_mask=mask, return_dict=False )\n",
        "\n",
        "        layer_input = pooled_output\n",
        "        for layer in self.network:\n",
        "            dropout_output = layer[ DROPOUT_LAYER ]( layer_input )\n",
        "            linear_output = layer[ LINEAR_LAYER ]( dropout_output )\n",
        "            layer_input = layer[ ACTIVATION_LAYER ]( linear_output )\n",
        "        final_layer = layer_input\n",
        "\n",
        "        return final_layer"
      ]
    },
    {
      "cell_type": "markdown",
      "metadata": {
        "id": "88uQIS9n_7Ek"
      },
      "source": [
        "## Model Training, Validation & Testing\n",
        "\n",
        "Now, we:\n",
        "- Use the validation dataset to tune hyperparameters twice (for model using raw data and model using pre-processed data)\n",
        "- Write the function that will train our model using the training dataset\n",
        "- Write the function that will evaluate our model using the test dataset"
      ]
    },
    {
      "cell_type": "markdown",
      "metadata": {
        "id": "57Do9uJdpuKm"
      },
      "source": [
        "### Model Initialization"
      ]
    },
    {
      "cell_type": "code",
      "execution_count": null,
      "metadata": {
        "colab": {
          "base_uri": "https://localhost:8080/",
          "height": 173,
          "referenced_widgets": [
            "b96de3d5e0284e8cb6b367f9a13f77ea",
            "b758369fcea54b87bad8b5dbf51ad482",
            "d2981ee2a148410f80ce770ed8cc7864",
            "6b82d9b8610c439ea2ceff0b2de6152e",
            "8f192690299341c1b312703380f20d63",
            "ce9fb37303f6471eaa7fdcabf92ad9e4",
            "d852cef17f1940a7a8d1ee93a9e5a32e",
            "d98ad48a00c646478332779bf658a1f1",
            "a99e3904563d4aa6817e11852f03a2ad",
            "2567efc865d9465183a76f42ca29e60f",
            "5884d913472d40a19ec3df6aef35537a"
          ]
        },
        "id": "AJiS-_JJpuKm",
        "outputId": "664a378d-1989-46d6-99e5-f04cb2871f96"
      },
      "outputs": [
        {
          "data": {
            "application/vnd.jupyter.widget-view+json": {
              "model_id": "b96de3d5e0284e8cb6b367f9a13f77ea",
              "version_major": 2,
              "version_minor": 0
            },
            "text/plain": [
              "Downloading:   0%|          | 0.00/436M [00:00<?, ?B/s]"
            ]
          },
          "metadata": {},
          "output_type": "display_data"
        },
        {
          "name": "stderr",
          "output_type": "stream",
          "text": [
            "Some weights of the model checkpoint at bert-base-cased were not used when initializing BertModel: ['cls.predictions.decoder.weight', 'cls.seq_relationship.weight', 'cls.predictions.transform.dense.weight', 'cls.predictions.transform.LayerNorm.bias', 'cls.predictions.bias', 'cls.predictions.transform.dense.bias', 'cls.predictions.transform.LayerNorm.weight', 'cls.seq_relationship.bias']\n",
            "- This IS expected if you are initializing BertModel from the checkpoint of a model trained on another task or with another architecture (e.g. initializing a BertForSequenceClassification model from a BertForPreTraining model).\n",
            "- This IS NOT expected if you are initializing BertModel from the checkpoint of a model that you expect to be exactly identical (initializing a BertForSequenceClassification model from a BertForSequenceClassification model).\n",
            "Some weights of the model checkpoint at bert-base-cased were not used when initializing BertModel: ['cls.predictions.decoder.weight', 'cls.seq_relationship.weight', 'cls.predictions.transform.dense.weight', 'cls.predictions.transform.LayerNorm.bias', 'cls.predictions.bias', 'cls.predictions.transform.dense.bias', 'cls.predictions.transform.LayerNorm.weight', 'cls.seq_relationship.bias']\n",
            "- This IS expected if you are initializing BertModel from the checkpoint of a model trained on another task or with another architecture (e.g. initializing a BertForSequenceClassification model from a BertForPreTraining model).\n",
            "- This IS NOT expected if you are initializing BertModel from the checkpoint of a model that you expect to be exactly identical (initializing a BertForSequenceClassification model from a BertForSequenceClassification model).\n"
          ]
        }
      ],
      "source": [
        "# This model uses pre-processed data\n",
        "neural_network_model_proc = NeuralNetwork()\n",
        "\n",
        "# This model uses raw data\n",
        "neural_network_model_raw = NeuralNetwork()"
      ]
    },
    {
      "cell_type": "markdown",
      "metadata": {
        "id": "CcD9wAgwpuKn"
      },
      "source": [
        "### Some functions to improve readability"
      ]
    },
    {
      "cell_type": "code",
      "execution_count": null,
      "metadata": {
        "id": "7pzW2bv7puKn"
      },
      "outputs": [],
      "source": [
        "def propagate_forwards( model, input, label, device=\"cpu\" ):\n",
        "    label = label.to(device)\n",
        "    mask = input['attention_mask'].to(device)\n",
        "    input_id = input['input_ids'].squeeze(1).to(device)\n",
        "\n",
        "    output = model(input_id, mask)\n",
        "\n",
        "    return output, label\n",
        "\n",
        "def apply_cuda(model, loss_fn):\n",
        "    return model.cuda(), loss_fn.cuda()\n",
        "    "
      ]
    },
    {
      "cell_type": "markdown",
      "metadata": {
        "id": "yEwOMwISpuKo"
      },
      "source": [
        "### Hyperparamter Tuning\n",
        "We use validation data to find the values for our hyperparamters to give us the best model possible.\n",
        "\n",
        "__The hyperparameters we will tune are:__\n",
        "1. Adam Optimizer learning rate\n",
        "2. Number of epochs (In the actual training)"
      ]
    },
    {
      "cell_type": "markdown",
      "metadata": {
        "id": "_KyCu7DXpuKo"
      },
      "source": [
        "#### First, we tune the Adam Optimizer's learning rate"
      ]
    },
    {
      "cell_type": "code",
      "execution_count": null,
      "metadata": {
        "id": "TdFw7XVgpuKo"
      },
      "outputs": [],
      "source": [
        "def tune_lr(model, train_data, val_data, n_epochs):\n",
        "\n",
        "    loss_function = nn.BCELoss()\n",
        "    use_cuda = torch.cuda.is_available()\n",
        "    device = torch.device(\"cuda\" if use_cuda else \"cpu\")\n",
        "\n",
        "    if use_cuda:\n",
        "        model.cuda()\n",
        "        loss_function.cuda()\n",
        "\n",
        "    train, val = Dataset(train_data), Dataset(val_data)\n",
        "    train_dataloader = torch.utils.data.DataLoader(train, batch_size=2, shuffle=True)\n",
        "    val_dataloader = torch.utils.data.DataLoader(val, batch_size=2)\n",
        "\n",
        "    lr_values = [1e-1, 1e-2, 1e-3, 1e-4]#, 1e-5, 1e-6, 1e-7]\n",
        "    lr_scores = []\n",
        "\n",
        "    best_lr = lr_values[0]\n",
        "    best_accuracy = 0\n",
        "    for current_lr in lr_values:\n",
        "\n",
        "        optimizer = Adam(model.parameters(), lr=current_lr)\n",
        "\n",
        "        total_accuracy = 0\n",
        "\n",
        "        for epoch_num in range( n_epochs ):\n",
        "\n",
        "                for train_input, train_label in tqdm(iterable=train_dataloader, desc='Tuning lr'):\n",
        "                \n",
        "                    # Forward Propagation\n",
        "                    output, label = propagate_forwards(model=model, input=train_input, label=train_label, device=device)\n",
        "                    batch_loss = loss_function(output.squeeze(1), label.float())\n",
        "\n",
        "                    # Backward Propagation\n",
        "                    model.zero_grad()\n",
        "                    batch_loss.backward()\n",
        "                    optimizer.step()\n",
        "\n",
        "                with torch.no_grad():\n",
        "\n",
        "                    total_accuracy = 0\n",
        "                    \n",
        "                    for val_input, val_label in tqdm(iterable=val_dataloader, desc='Assessing'):\n",
        "\n",
        "                        # Forward Propagation\n",
        "                        output, label = propagate_forwards(model=model, input=val_input, label=val_label, device=device)\n",
        "                        batch_loss = loss_function(output.squeeze(1), label.float())\n",
        "                        \n",
        "                        acc = (output.argmax(dim=1) == label).sum().item()\n",
        "                        total_accuracy += acc\n",
        "\n",
        "        total_accuracy = total_accuracy / len(val_data)\n",
        "        print(f'\\nAccuracy = {total_accuracy: .3f}')\n",
        "        \n",
        "        if total_accuracy > best_accuracy:\n",
        "            best_lr = current_lr\n",
        "        lr_scores.append( total_accuracy )\n",
        "        current_lr = current_lr / 10\n",
        "\n",
        "    plt.plot( lr_values, lr_scores )\n",
        "    plt.show()\n",
        "    return best_lr\n",
        "            "
      ]
    },
    {
      "cell_type": "markdown",
      "metadata": {
        "id": "iUYr1OORpuKp"
      },
      "source": [
        "We will tune with an arbitrary number of epochs for now. (Using pre-processed data)"
      ]
    },
    {
      "cell_type": "code",
      "execution_count": null,
      "metadata": {
        "colab": {
          "base_uri": "https://localhost:8080/",
          "height": 577
        },
        "id": "eS1IhIsVpuKp",
        "outputId": "70f75a0f-36c8-4ce5-f2bd-eaeef2986dd6"
      },
      "outputs": [
        {
          "name": "stderr",
          "output_type": "stream",
          "text": [
            "Tokenizing: 100%|██████████| 5000/5000 [00:14<00:00, 338.76it/s]\n",
            "Tokenizing: 100%|██████████| 5000/5000 [00:14<00:00, 351.34it/s]\n",
            "Tuning lr: 100%|██████████| 2500/2500 [08:29<00:00,  4.91it/s]\n",
            "Assessing: 100%|██████████| 2500/2500 [02:38<00:00, 15.75it/s]\n"
          ]
        },
        {
          "name": "stdout",
          "output_type": "stream",
          "text": [
            "\n",
            "Accuracy =  2500.000\n"
          ]
        },
        {
          "name": "stderr",
          "output_type": "stream",
          "text": [
            "Tuning lr: 100%|██████████| 2500/2500 [08:32<00:00,  4.88it/s]\n",
            "Assessing: 100%|██████████| 2500/2500 [02:38<00:00, 15.79it/s]\n"
          ]
        },
        {
          "name": "stdout",
          "output_type": "stream",
          "text": [
            "\n",
            "Accuracy =  2500.000\n"
          ]
        },
        {
          "name": "stderr",
          "output_type": "stream",
          "text": [
            "Tuning lr: 100%|██████████| 2500/2500 [08:28<00:00,  4.92it/s]\n",
            "Assessing: 100%|██████████| 2500/2500 [02:38<00:00, 15.80it/s]\n"
          ]
        },
        {
          "name": "stdout",
          "output_type": "stream",
          "text": [
            "\n",
            "Accuracy =  2500.000\n"
          ]
        },
        {
          "name": "stderr",
          "output_type": "stream",
          "text": [
            "Tuning lr: 100%|██████████| 2500/2500 [08:28<00:00,  4.92it/s]\n",
            "Assessing: 100%|██████████| 2500/2500 [02:38<00:00, 15.79it/s]\n"
          ]
        },
        {
          "name": "stdout",
          "output_type": "stream",
          "text": [
            "\n",
            "Accuracy =  2500.000\n"
          ]
        },
        {
          "data": {
            "image/png": "[encoded data removed]",
            "text/plain": [
              "<Figure size 432x288 with 1 Axes>"
            ]
          },
          "metadata": {
            "needs_background": "light"
          },
          "output_type": "display_data"
        }
      ],
      "source": [
        "# LEARNING_RATE_PROC = tune_lr(model=neural_network_model_proc, train_data=df_train_proc, val_data=df_val_proc, n_epochs=5)\n",
        "LEARNING_RATE_PROC = tune_lr(model=neural_network_model_proc, train_data=df_val_proc, val_data=df_val_proc, n_epochs=1)"
      ]
    },
    {
      "cell_type": "markdown",
      "metadata": {
        "id": "2SVg-UZ6puKp"
      },
      "source": [
        "(Using raw data)"
      ]
    },
    {
      "cell_type": "code",
      "execution_count": null,
      "metadata": {
        "id": "azOQAodrpuKq"
      },
      "outputs": [],
      "source": [
        "LEARNING_RATE_RAW = tune_lr(model=neural_network_model_raw, train_data=df_train_raw, val_data=df_val_raw, n_epochs=5)"
      ]
    },
    {
      "cell_type": "markdown",
      "metadata": {
        "id": "KHNygJJ7puKq"
      },
      "source": [
        "#### Tuning the number of epochs will take place during the actual training"
      ]
    },
    {
      "cell_type": "markdown",
      "metadata": {
        "id": "TOFvewXNpuKq"
      },
      "source": [
        "### Training the model using the training data"
      ]
    },
    {
      "cell_type": "code",
      "execution_count": null,
      "metadata": {
        "id": "1wryf3fN_-D8"
      },
      "outputs": [],
      "source": [
        "def train(model, train_data, val_data, learning_rate, n_epochs, model_path):\n",
        "\n",
        "    loss_function = nn.BCELoss()\n",
        "    optimizer = Adam(model.parameters(), lr=learning_rate)\n",
        "\n",
        "    use_cuda = torch.cuda.is_available()\n",
        "    device = torch.device(\"cuda\" if use_cuda else \"cpu\")\n",
        "\n",
        "    if use_cuda:\n",
        "        model = model.cuda()\n",
        "        loss_function = loss_function.cuda()\n",
        "\n",
        "    print('\\n------------------------------------')\n",
        "    print('Accelerator Name: ' + str(device))\n",
        "    print('Learning Rate   : ' + str(learning_rate))\n",
        "    print('No. of Epochs   : ' + str(n_epochs))\n",
        "    print('------------------------------------', flush=True)\n",
        "\n",
        "    train, val = Dataset(train_data), Dataset(val_data)\n",
        "    train_dataloader = torch.utils.data.DataLoader(train, batch_size=2, shuffle=True)\n",
        "    val_dataloader = torch.utils.data.DataLoader(val, batch_size=2)\n",
        "\n",
        "    epoch_scores = []\n",
        "    best_accuracy = 0\n",
        "\n",
        "    for epoch_num in range( 1, n_epochs + 1 ):\n",
        "\n",
        "        total_accuracy = 0\n",
        "\n",
        "        for train_input, train_label in tqdm(iterable=train_dataloader, desc='Epoch #' + str(epoch_num)):\n",
        "            \n",
        "            # Forward Propagation\n",
        "            output, label = propagate_forwards(model=model, input=train_input, label=train_label, device=device)\n",
        "            batch_loss = loss_function(output, label.float())\n",
        "\n",
        "            # Backward Propagation\n",
        "            model.zero_grad()\n",
        "            batch_loss.backward()\n",
        "            optimizer.step()\n",
        "\n",
        "        with torch.no_grad():\n",
        "            \n",
        "            for val_input, val_label in tqdm(iterable=val_dataloader, desc='Assessing'):\n",
        "\n",
        "                # Forward Propagation\n",
        "                output, label = propagate_forwards(model=model, input=val_input, label=val_label, device=device)\n",
        "                batch_loss = loss_function(output, label.float())\n",
        "                \n",
        "                acc = (output.argmax(dim=1) == label).sum().item()\n",
        "                total_accuracy += acc\n",
        "\n",
        "        print(f'\\nTraining epoch complete. | Validation accuracy = {total_accuracy / len(val_data): .3f}')\n",
        "        if total_accuracy > best_accuracy:\n",
        "            best_accuracy = total_accuracy\n",
        "            print('Saving model checkpoint to disk...')\n",
        "            torch.save( model.state_dict(), model_path )\n",
        "        epoch_scores.append( total_accuracy )\n",
        "\n",
        "    print('All done :)')\n",
        "\n",
        "    plt.plot( range(1, n_epochs + 1), epoch_scores )\n",
        "    plt.show()"
      ]
    },
    {
      "cell_type": "markdown",
      "metadata": {
        "id": "XYYDDkSGpuKr"
      },
      "source": [
        "### Evaluating the model using the test data"
      ]
    },
    {
      "cell_type": "code",
      "execution_count": null,
      "metadata": {
        "id": "WyqrlJ6hpuKs"
      },
      "outputs": [],
      "source": [
        "def evaluate(model, test_data):\n",
        "\n",
        "    use_cuda = torch.cuda.is_available()\n",
        "    device = torch.device(\"cuda\" if use_cuda else \"cpu\")\n",
        "\n",
        "    if use_cuda:\n",
        "        model = model.cuda()\n",
        "\n",
        "    test = Dataset(test_data)\n",
        "    test_dataloader = torch.utils.data.DataLoader(test, batch_size=2)\n",
        "    \n",
        "    predicted_labels, actual_labels = [], []\n",
        "\n",
        "    with torch.no_grad():\n",
        "        for test_input, test_label in tqdm(iterable=test_dataloader, desc='Evaluating'):\n",
        "\n",
        "            output = propagate_forwards( model=model, input=test_input, label=test_label, device=device )\n",
        "\n",
        "            predicted_labels.append( output.argmax(dim=1) )\n",
        "            actual_labels.append( test_label )\n",
        "\n",
        "    \n",
        "    print(classification_report(actual_labels, predicted_labels, target_names=['-', '+']))\n",
        "    ConfusionMatrixDisplay(confusion_matrix(actual_labels, predicted_labels), display_labels=['g', 'h']).plot()\n",
        "    plt.show()"
      ]
    },
    {
      "cell_type": "markdown",
      "metadata": {
        "id": "BTTXdPWqASKT"
      },
      "source": [
        "## Now we witness the magic :)\n",
        "\n",
        "At this point, we've tuned all our hyperparameters and are ready to test the model for real"
      ]
    },
    {
      "cell_type": "markdown",
      "metadata": {
        "id": "HsI5mljVpuKt"
      },
      "source": [
        "### Training the model using pre-processed data"
      ]
    },
    {
      "cell_type": "code",
      "execution_count": null,
      "metadata": {
        "id": "jHcxvuJtAW1D"
      },
      "outputs": [],
      "source": [
        "N_EPOCHS = 10\n",
        "lr = LEARNING_RATE_PROC\n",
        "print('\\nTraining using pre-processed data', flush=True)\n",
        "train(model=neural_network_model_proc, train_data=df_train_proc, val_data=df_val_proc, learning_rate=lr, n_epochs=N_EPOCHS, model_path='model_proc.pt')"
      ]
    },
    {
      "cell_type": "markdown",
      "metadata": {
        "id": "9rSsqKi6puKt"
      },
      "source": [
        "### Training the model using raw data"
      ]
    },
    {
      "cell_type": "code",
      "execution_count": null,
      "metadata": {
        "id": "P1NcH6yDpuKt"
      },
      "outputs": [],
      "source": [
        "lr = LEARNING_RATE_RAW\n",
        "print('Training using raw data', flush=True)\n",
        "train(model=neural_network_model_raw, train_data=df_train_raw, val_data=df_val_raw, learning_rate=lr, n_epochs=N_EPOCHS, model_path='model_raw.pt')"
      ]
    },
    {
      "cell_type": "markdown",
      "metadata": {
        "id": "GomRp-JdpuKu"
      },
      "source": [
        "### Evaluating the model"
      ]
    },
    {
      "cell_type": "markdown",
      "metadata": {
        "id": "Fpmuk3XPpuKu"
      },
      "source": [
        "#### [OPTIONAL] Leading our pre-trained models from disk"
      ]
    },
    {
      "cell_type": "markdown",
      "metadata": {
        "id": "LM3FzBXypuKu"
      },
      "source": [
        "Load model trained on pre-processed data"
      ]
    },
    {
      "cell_type": "code",
      "execution_count": null,
      "metadata": {
        "id": "Gp7HN14BpuKu"
      },
      "outputs": [],
      "source": [
        "### OPTIONAL ###\n",
        "# Loads the model state dictionary from disk.\n",
        "# Run this cell if the trained model is not in main memory (has not been trained in the same runtime)\n",
        "neural_network_model_proc = NeuralNetwork( dropout_probability=0.5 )\n",
        "neural_network_model_proc.load_state_dict( torch.load(\"model_proc.pt\") )\n",
        "neural_network_model_proc.eval()"
      ]
    },
    {
      "cell_type": "markdown",
      "metadata": {
        "id": "ox84Cxq3puKv"
      },
      "source": [
        "Load model trained on raw data"
      ]
    },
    {
      "cell_type": "code",
      "execution_count": null,
      "metadata": {
        "id": "o-C-atYjpuKv"
      },
      "outputs": [],
      "source": [
        "### OPTIONAL ###\n",
        "# Loads the model state dictionary from disk.\n",
        "# Run this cell if the trained model is not in main memory (has not been trained in the same runtime)\n",
        "neural_network_model_raw = NeuralNetwork( dropout_probability=0.5 )\n",
        "neural_network_model_raw.load_state_dict( torch.load(\"model_raw.pt\") )\n",
        "neural_network_model_raw.eval()"
      ]
    },
    {
      "cell_type": "markdown",
      "metadata": {
        "id": "am_v5966puKv"
      },
      "source": [
        "#### Evaluate the model\n",
        "The moment of truth! :D"
      ]
    },
    {
      "cell_type": "markdown",
      "metadata": {
        "id": "Vk_LBGXnpuKv"
      },
      "source": [
        "Model evaluation using pre-processed data"
      ]
    },
    {
      "cell_type": "code",
      "execution_count": null,
      "metadata": {
        "id": "3JfcXkmJpuKw"
      },
      "outputs": [],
      "source": [
        "evaluate( model=neural_network_model_proc, test_data=df_test_proc )"
      ]
    },
    {
      "cell_type": "markdown",
      "metadata": {
        "id": "FEsS3xq0puKw"
      },
      "source": [
        "Model evaluation using raw data"
      ]
    },
    {
      "cell_type": "code",
      "execution_count": null,
      "metadata": {
        "id": "zyK-QITQpuKw"
      },
      "outputs": [],
      "source": [
        "evaluate( model=neural_network_model_raw, test_data=df_test_raw )"
      ]
    }
  ],
  "metadata": {
    "accelerator": "GPU",
    "colab": {
      "collapsed_sections": [
        "muviY-I2puKZ"
      ],
      "provenance": []
    },
    "gpuClass": "standard",
    "kernelspec": {
      "display_name": "Python 3",
      "language": "python",
      "name": "python3"
    },
    "language_info": {
      "codemirror_mode": {
        "name": "ipython",
        "version": 3
      },
      "file_extension": ".py",
      "mimetype": "text/x-python",
      "name": "python",
      "nbconvert_exporter": "python",
      "pygments_lexer": "ipython3",
      "version": "3.11.0"
    },
    "vscode": {
      "interpreter": {
        "hash": "92e83001589606ab90afa46080212dcb734f30c24d2f66d52b7ead7b1f127be3"
      }
    },
    "widgets": {
      "application/vnd.jupyter.widget-state+json": {
        "092d230671fc416a995f95052d88a577": {
          "model_module": "@jupyter-widgets/controls",
          "model_module_version": "1.5.0",
          "model_name": "HBoxModel",
          "state": {
            "_dom_classes": [],
            "_model_module": "@jupyter-widgets/controls",
            "_model_module_version": "1.5.0",
            "_model_name": "HBoxModel",
            "_view_count": null,
            "_view_module": "@jupyter-widgets/controls",
            "_view_module_version": "1.5.0",
            "_view_name": "HBoxView",
            "box_style": "",
            "children": [
              "IPY_MODEL_45bdb40d3e9747668db236fcf63eeb3b",
              "IPY_MODEL_da32c765dbc74c1fab342276e38d5598",
              "IPY_MODEL_77ed1c265bc54bc78e0f060cfbbd920d"
            ],
            "layout": "IPY_MODEL_faabb42a1fef40818a0bbffab6fbfb2e"
          }
        },
        "0d78972e48ac4001a616a866e1e8e339": {
          "model_module": "@jupyter-widgets/controls",
          "model_module_version": "1.5.0",
          "model_name": "DescriptionStyleModel",
          "state": {
            "_model_module": "@jupyter-widgets/controls",
            "_model_module_version": "1.5.0",
            "_model_name": "DescriptionStyleModel",
            "_view_count": null,
            "_view_module": "@jupyter-widgets/base",
            "_view_module_version": "1.2.0",
            "_view_name": "StyleView",
            "description_width": ""
          }
        },
        "177bdf7bd65c4d44a6b1d04371f3717d": {
          "model_module": "@jupyter-widgets/base",
          "model_module_version": "1.2.0",
          "model_name": "LayoutModel",
          "state": {
            "_model_module": "@jupyter-widgets/base",
            "_model_module_version": "1.2.0",
            "_model_name": "LayoutModel",
            "_view_count": null,
            "_view_module": "@jupyter-widgets/base",
            "_view_module_version": "1.2.0",
            "_view_name": "LayoutView",
            "align_content": null,
            "align_items": null,
            "align_self": null,
            "border": null,
            "bottom": null,
            "display": null,
            "flex": null,
            "flex_flow": null,
            "grid_area": null,
            "grid_auto_columns": null,
            "grid_auto_flow": null,
            "grid_auto_rows": null,
            "grid_column": null,
            "grid_gap": null,
            "grid_row": null,
            "grid_template_areas": null,
            "grid_template_columns": null,
            "grid_template_rows": null,
            "height": null,
            "justify_content": null,
            "justify_items": null,
            "left": null,
            "margin": null,
            "max_height": null,
            "max_width": null,
            "min_height": null,
            "min_width": null,
            "object_fit": null,
            "object_position": null,
            "order": null,
            "overflow": null,
            "overflow_x": null,
            "overflow_y": null,
            "padding": null,
            "right": null,
            "top": null,
            "visibility": null,
            "width": null
          }
        },
        "1a35c00fd7694d7da48c764875f5369d": {
          "model_module": "@jupyter-widgets/base",
          "model_module_version": "1.2.0",
          "model_name": "LayoutModel",
          "state": {
            "_model_module": "@jupyter-widgets/base",
            "_model_module_version": "1.2.0",
            "_model_name": "LayoutModel",
            "_view_count": null,
            "_view_module": "@jupyter-widgets/base",
            "_view_module_version": "1.2.0",
            "_view_name": "LayoutView",
            "align_content": null,
            "align_items": null,
            "align_self": null,
            "border": null,
            "bottom": null,
            "display": null,
            "flex": null,
            "flex_flow": null,
            "grid_area": null,
            "grid_auto_columns": null,
            "grid_auto_flow": null,
            "grid_auto_rows": null,
            "grid_column": null,
            "grid_gap": null,
            "grid_row": null,
            "grid_template_areas": null,
            "grid_template_columns": null,
            "grid_template_rows": null,
            "height": null,
            "justify_content": null,
            "justify_items": null,
            "left": null,
            "margin": null,
            "max_height": null,
            "max_width": null,
            "min_height": null,
            "min_width": null,
            "object_fit": null,
            "object_position": null,
            "order": null,
            "overflow": null,
            "overflow_x": null,
            "overflow_y": null,
            "padding": null,
            "right": null,
            "top": null,
            "visibility": null,
            "width": null
          }
        },
        "1be2446637d249208d2dd5d9722bc887": {
          "model_module": "@jupyter-widgets/controls",
          "model_module_version": "1.5.0",
          "model_name": "HTMLModel",
          "state": {
            "_dom_classes": [],
            "_model_module": "@jupyter-widgets/controls",
            "_model_module_version": "1.5.0",
            "_model_name": "HTMLModel",
            "_view_count": null,
            "_view_module": "@jupyter-widgets/controls",
            "_view_module_version": "1.5.0",
            "_view_name": "HTMLView",
            "description": "",
            "description_tooltip": null,
            "layout": "IPY_MODEL_8e4fd033f354400482c2e8eca54577ec",
            "placeholder": "​",
            "style": "IPY_MODEL_de5607cbb45d462cab81a8af01cb3a5f",
            "value": "Downloading: 100%"
          }
        },
        "1d88e1819311485d91ef349e8c71583a": {
          "model_module": "@jupyter-widgets/base",
          "model_module_version": "1.2.0",
          "model_name": "LayoutModel",
          "state": {
            "_model_module": "@jupyter-widgets/base",
            "_model_module_version": "1.2.0",
            "_model_name": "LayoutModel",
            "_view_count": null,
            "_view_module": "@jupyter-widgets/base",
            "_view_module_version": "1.2.0",
            "_view_name": "LayoutView",
            "align_content": null,
            "align_items": null,
            "align_self": null,
            "border": null,
            "bottom": null,
            "display": null,
            "flex": null,
            "flex_flow": null,
            "grid_area": null,
            "grid_auto_columns": null,
            "grid_auto_flow": null,
            "grid_auto_rows": null,
            "grid_column": null,
            "grid_gap": null,
            "grid_row": null,
            "grid_template_areas": null,
            "grid_template_columns": null,
            "grid_template_rows": null,
            "height": null,
            "justify_content": null,
            "justify_items": null,
            "left": null,
            "margin": null,
            "max_height": null,
            "max_width": null,
            "min_height": null,
            "min_width": null,
            "object_fit": null,
            "object_position": null,
            "order": null,
            "overflow": null,
            "overflow_x": null,
            "overflow_y": null,
            "padding": null,
            "right": null,
            "top": null,
            "visibility": null,
            "width": null
          }
        },
        "2567efc865d9465183a76f42ca29e60f": {
          "model_module": "@jupyter-widgets/base",
          "model_module_version": "1.2.0",
          "model_name": "LayoutModel",
          "state": {
            "_model_module": "@jupyter-widgets/base",
            "_model_module_version": "1.2.0",
            "_model_name": "LayoutModel",
            "_view_count": null,
            "_view_module": "@jupyter-widgets/base",
            "_view_module_version": "1.2.0",
            "_view_name": "LayoutView",
            "align_content": null,
            "align_items": null,
            "align_self": null,
            "border": null,
            "bottom": null,
            "display": null,
            "flex": null,
            "flex_flow": null,
            "grid_area": null,
            "grid_auto_columns": null,
            "grid_auto_flow": null,
            "grid_auto_rows": null,
            "grid_column": null,
            "grid_gap": null,
            "grid_row": null,
            "grid_template_areas": null,
            "grid_template_columns": null,
            "grid_template_rows": null,
            "height": null,
            "justify_content": null,
            "justify_items": null,
            "left": null,
            "margin": null,
            "max_height": null,
            "max_width": null,
            "min_height": null,
            "min_width": null,
            "object_fit": null,
            "object_position": null,
            "order": null,
            "overflow": null,
            "overflow_x": null,
            "overflow_y": null,
            "padding": null,
            "right": null,
            "top": null,
            "visibility": null,
            "width": null
          }
        },
        "2740eb9e228f471784041830597ae456": {
          "model_module": "@jupyter-widgets/controls",
          "model_module_version": "1.5.0",
          "model_name": "DescriptionStyleModel",
          "state": {
            "_model_module": "@jupyter-widgets/controls",
            "_model_module_version": "1.5.0",
            "_model_name": "DescriptionStyleModel",
            "_view_count": null,
            "_view_module": "@jupyter-widgets/base",
            "_view_module_version": "1.2.0",
            "_view_name": "StyleView",
            "description_width": ""
          }
        },
        "3d65f550f0cf4e9589a3a32eb6e2fc71": {
          "model_module": "@jupyter-widgets/controls",
          "model_module_version": "1.5.0",
          "model_name": "FloatProgressModel",
          "state": {
            "_dom_classes": [],
            "_model_module": "@jupyter-widgets/controls",
            "_model_module_version": "1.5.0",
            "_model_name": "FloatProgressModel",
            "_view_count": null,
            "_view_module": "@jupyter-widgets/controls",
            "_view_module_version": "1.5.0",
            "_view_name": "ProgressView",
            "bar_style": "success",
            "description": "",
            "description_tooltip": null,
            "layout": "IPY_MODEL_82432496437a40bf849ac88eda21cc90",
            "max": 29,
            "min": 0,
            "orientation": "horizontal",
            "style": "IPY_MODEL_d08bfbcd2fac4700a7a1656a18f2ce98",
            "value": 29
          }
        },
        "45bdb40d3e9747668db236fcf63eeb3b": {
          "model_module": "@jupyter-widgets/controls",
          "model_module_version": "1.5.0",
          "model_name": "HTMLModel",
          "state": {
            "_dom_classes": [],
            "_model_module": "@jupyter-widgets/controls",
            "_model_module_version": "1.5.0",
            "_model_name": "HTMLModel",
            "_view_count": null,
            "_view_module": "@jupyter-widgets/controls",
            "_view_module_version": "1.5.0",
            "_view_name": "HTMLView",
            "description": "",
            "description_tooltip": null,
            "layout": "IPY_MODEL_a1895eb6d28b4c0382edca8eecbcff1d",
            "placeholder": "​",
            "style": "IPY_MODEL_cf2ff764d10c4a13890c4ce254fe835e",
            "value": "Downloading: 100%"
          }
        },
        "54469b0f451d47d5abfcb875f443e886": {
          "model_module": "@jupyter-widgets/controls",
          "model_module_version": "1.5.0",
          "model_name": "DescriptionStyleModel",
          "state": {
            "_model_module": "@jupyter-widgets/controls",
            "_model_module_version": "1.5.0",
            "_model_name": "DescriptionStyleModel",
            "_view_count": null,
            "_view_module": "@jupyter-widgets/base",
            "_view_module_version": "1.2.0",
            "_view_name": "StyleView",
            "description_width": ""
          }
        },
        "57dc545ff08949e4bf41f6c4316c8d51": {
          "model_module": "@jupyter-widgets/base",
          "model_module_version": "1.2.0",
          "model_name": "LayoutModel",
          "state": {
            "_model_module": "@jupyter-widgets/base",
            "_model_module_version": "1.2.0",
            "_model_name": "LayoutModel",
            "_view_count": null,
            "_view_module": "@jupyter-widgets/base",
            "_view_module_version": "1.2.0",
            "_view_name": "LayoutView",
            "align_content": null,
            "align_items": null,
            "align_self": null,
            "border": null,
            "bottom": null,
            "display": null,
            "flex": null,
            "flex_flow": null,
            "grid_area": null,
            "grid_auto_columns": null,
            "grid_auto_flow": null,
            "grid_auto_rows": null,
            "grid_column": null,
            "grid_gap": null,
            "grid_row": null,
            "grid_template_areas": null,
            "grid_template_columns": null,
            "grid_template_rows": null,
            "height": null,
            "justify_content": null,
            "justify_items": null,
            "left": null,
            "margin": null,
            "max_height": null,
            "max_width": null,
            "min_height": null,
            "min_width": null,
            "object_fit": null,
            "object_position": null,
            "order": null,
            "overflow": null,
            "overflow_x": null,
            "overflow_y": null,
            "padding": null,
            "right": null,
            "top": null,
            "visibility": null,
            "width": null
          }
        },
        "5884d913472d40a19ec3df6aef35537a": {
          "model_module": "@jupyter-widgets/controls",
          "model_module_version": "1.5.0",
          "model_name": "DescriptionStyleModel",
          "state": {
            "_model_module": "@jupyter-widgets/controls",
            "_model_module_version": "1.5.0",
            "_model_name": "DescriptionStyleModel",
            "_view_count": null,
            "_view_module": "@jupyter-widgets/base",
            "_view_module_version": "1.2.0",
            "_view_name": "StyleView",
            "description_width": ""
          }
        },
        "6137dba1098f4b3c9ae7af4fd74f0d48": {
          "model_module": "@jupyter-widgets/base",
          "model_module_version": "1.2.0",
          "model_name": "LayoutModel",
          "state": {
            "_model_module": "@jupyter-widgets/base",
            "_model_module_version": "1.2.0",
            "_model_name": "LayoutModel",
            "_view_count": null,
            "_view_module": "@jupyter-widgets/base",
            "_view_module_version": "1.2.0",
            "_view_name": "LayoutView",
            "align_content": null,
            "align_items": null,
            "align_self": null,
            "border": null,
            "bottom": null,
            "display": null,
            "flex": null,
            "flex_flow": null,
            "grid_area": null,
            "grid_auto_columns": null,
            "grid_auto_flow": null,
            "grid_auto_rows": null,
            "grid_column": null,
            "grid_gap": null,
            "grid_row": null,
            "grid_template_areas": null,
            "grid_template_columns": null,
            "grid_template_rows": null,
            "height": null,
            "justify_content": null,
            "justify_items": null,
            "left": null,
            "margin": null,
            "max_height": null,
            "max_width": null,
            "min_height": null,
            "min_width": null,
            "object_fit": null,
            "object_position": null,
            "order": null,
            "overflow": null,
            "overflow_x": null,
            "overflow_y": null,
            "padding": null,
            "right": null,
            "top": null,
            "visibility": null,
            "width": null
          }
        },
        "66358252cede43ceaac58481631127b5": {
          "model_module": "@jupyter-widgets/controls",
          "model_module_version": "1.5.0",
          "model_name": "HBoxModel",
          "state": {
            "_dom_classes": [],
            "_model_module": "@jupyter-widgets/controls",
            "_model_module_version": "1.5.0",
            "_model_name": "HBoxModel",
            "_view_count": null,
            "_view_module": "@jupyter-widgets/controls",
            "_view_module_version": "1.5.0",
            "_view_name": "HBoxView",
            "box_style": "",
            "children": [
              "IPY_MODEL_1be2446637d249208d2dd5d9722bc887",
              "IPY_MODEL_b8605c403f8445fba66113367858c402",
              "IPY_MODEL_b6fb6acaf0ed4b32a772e50d9fac27de"
            ],
            "layout": "IPY_MODEL_967c7431a0304acdb93e6f5790ff2052"
          }
        },
        "681297c67bd544479fa239d5451c476c": {
          "model_module": "@jupyter-widgets/controls",
          "model_module_version": "1.5.0",
          "model_name": "HBoxModel",
          "state": {
            "_dom_classes": [],
            "_model_module": "@jupyter-widgets/controls",
            "_model_module_version": "1.5.0",
            "_model_name": "HBoxModel",
            "_view_count": null,
            "_view_module": "@jupyter-widgets/controls",
            "_view_module_version": "1.5.0",
            "_view_name": "HBoxView",
            "box_style": "",
            "children": [
              "IPY_MODEL_9ec779d3cd064f79961ba41ca0a12c5b",
              "IPY_MODEL_3d65f550f0cf4e9589a3a32eb6e2fc71",
              "IPY_MODEL_71bb3b9e1ba441cd8c6fc1cfd54adc75"
            ],
            "layout": "IPY_MODEL_d1b7b0dbb45544cfa649dbcf62cc49e8"
          }
        },
        "6ad9d229a35e434696274971552a6629": {
          "model_module": "@jupyter-widgets/controls",
          "model_module_version": "1.5.0",
          "model_name": "ProgressStyleModel",
          "state": {
            "_model_module": "@jupyter-widgets/controls",
            "_model_module_version": "1.5.0",
            "_model_name": "ProgressStyleModel",
            "_view_count": null,
            "_view_module": "@jupyter-widgets/base",
            "_view_module_version": "1.2.0",
            "_view_name": "StyleView",
            "bar_color": null,
            "description_width": ""
          }
        },
        "6b82d9b8610c439ea2ceff0b2de6152e": {
          "model_module": "@jupyter-widgets/controls",
          "model_module_version": "1.5.0",
          "model_name": "HTMLModel",
          "state": {
            "_dom_classes": [],
            "_model_module": "@jupyter-widgets/controls",
            "_model_module_version": "1.5.0",
            "_model_name": "HTMLModel",
            "_view_count": null,
            "_view_module": "@jupyter-widgets/controls",
            "_view_module_version": "1.5.0",
            "_view_name": "HTMLView",
            "description": "",
            "description_tooltip": null,
            "layout": "IPY_MODEL_2567efc865d9465183a76f42ca29e60f",
            "placeholder": "​",
            "style": "IPY_MODEL_5884d913472d40a19ec3df6aef35537a",
            "value": " 436M/436M [00:06&lt;00:00, 31.6MB/s]"
          }
        },
        "71bb3b9e1ba441cd8c6fc1cfd54adc75": {
          "model_module": "@jupyter-widgets/controls",
          "model_module_version": "1.5.0",
          "model_name": "HTMLModel",
          "state": {
            "_dom_classes": [],
            "_model_module": "@jupyter-widgets/controls",
            "_model_module_version": "1.5.0",
            "_model_name": "HTMLModel",
            "_view_count": null,
            "_view_module": "@jupyter-widgets/controls",
            "_view_module_version": "1.5.0",
            "_view_name": "HTMLView",
            "description": "",
            "description_tooltip": null,
            "layout": "IPY_MODEL_1a35c00fd7694d7da48c764875f5369d",
            "placeholder": "​",
            "style": "IPY_MODEL_a612f52388634a6fa416decc31cb0e6a",
            "value": " 29.0/29.0 [00:00&lt;00:00, 2.04kB/s]"
          }
        },
        "77ed1c265bc54bc78e0f060cfbbd920d": {
          "model_module": "@jupyter-widgets/controls",
          "model_module_version": "1.5.0",
          "model_name": "HTMLModel",
          "state": {
            "_dom_classes": [],
            "_model_module": "@jupyter-widgets/controls",
            "_model_module_version": "1.5.0",
            "_model_name": "HTMLModel",
            "_view_count": null,
            "_view_module": "@jupyter-widgets/controls",
            "_view_module_version": "1.5.0",
            "_view_name": "HTMLView",
            "description": "",
            "description_tooltip": null,
            "layout": "IPY_MODEL_e8a5225d453f46909c778439b3ad3d44",
            "placeholder": "​",
            "style": "IPY_MODEL_0d78972e48ac4001a616a866e1e8e339",
            "value": " 570/570 [00:00&lt;00:00, 37.8kB/s]"
          }
        },
        "82432496437a40bf849ac88eda21cc90": {
          "model_module": "@jupyter-widgets/base",
          "model_module_version": "1.2.0",
          "model_name": "LayoutModel",
          "state": {
            "_model_module": "@jupyter-widgets/base",
            "_model_module_version": "1.2.0",
            "_model_name": "LayoutModel",
            "_view_count": null,
            "_view_module": "@jupyter-widgets/base",
            "_view_module_version": "1.2.0",
            "_view_name": "LayoutView",
            "align_content": null,
            "align_items": null,
            "align_self": null,
            "border": null,
            "bottom": null,
            "display": null,
            "flex": null,
            "flex_flow": null,
            "grid_area": null,
            "grid_auto_columns": null,
            "grid_auto_flow": null,
            "grid_auto_rows": null,
            "grid_column": null,
            "grid_gap": null,
            "grid_row": null,
            "grid_template_areas": null,
            "grid_template_columns": null,
            "grid_template_rows": null,
            "height": null,
            "justify_content": null,
            "justify_items": null,
            "left": null,
            "margin": null,
            "max_height": null,
            "max_width": null,
            "min_height": null,
            "min_width": null,
            "object_fit": null,
            "object_position": null,
            "order": null,
            "overflow": null,
            "overflow_x": null,
            "overflow_y": null,
            "padding": null,
            "right": null,
            "top": null,
            "visibility": null,
            "width": null
          }
        },
        "8e4fd033f354400482c2e8eca54577ec": {
          "model_module": "@jupyter-widgets/base",
          "model_module_version": "1.2.0",
          "model_name": "LayoutModel",
          "state": {
            "_model_module": "@jupyter-widgets/base",
            "_model_module_version": "1.2.0",
            "_model_name": "LayoutModel",
            "_view_count": null,
            "_view_module": "@jupyter-widgets/base",
            "_view_module_version": "1.2.0",
            "_view_name": "LayoutView",
            "align_content": null,
            "align_items": null,
            "align_self": null,
            "border": null,
            "bottom": null,
            "display": null,
            "flex": null,
            "flex_flow": null,
            "grid_area": null,
            "grid_auto_columns": null,
            "grid_auto_flow": null,
            "grid_auto_rows": null,
            "grid_column": null,
            "grid_gap": null,
            "grid_row": null,
            "grid_template_areas": null,
            "grid_template_columns": null,
            "grid_template_rows": null,
            "height": null,
            "justify_content": null,
            "justify_items": null,
            "left": null,
            "margin": null,
            "max_height": null,
            "max_width": null,
            "min_height": null,
            "min_width": null,
            "object_fit": null,
            "object_position": null,
            "order": null,
            "overflow": null,
            "overflow_x": null,
            "overflow_y": null,
            "padding": null,
            "right": null,
            "top": null,
            "visibility": null,
            "width": null
          }
        },
        "8f192690299341c1b312703380f20d63": {
          "model_module": "@jupyter-widgets/base",
          "model_module_version": "1.2.0",
          "model_name": "LayoutModel",
          "state": {
            "_model_module": "@jupyter-widgets/base",
            "_model_module_version": "1.2.0",
            "_model_name": "LayoutModel",
            "_view_count": null,
            "_view_module": "@jupyter-widgets/base",
            "_view_module_version": "1.2.0",
            "_view_name": "LayoutView",
            "align_content": null,
            "align_items": null,
            "align_self": null,
            "border": null,
            "bottom": null,
            "display": null,
            "flex": null,
            "flex_flow": null,
            "grid_area": null,
            "grid_auto_columns": null,
            "grid_auto_flow": null,
            "grid_auto_rows": null,
            "grid_column": null,
            "grid_gap": null,
            "grid_row": null,
            "grid_template_areas": null,
            "grid_template_columns": null,
            "grid_template_rows": null,
            "height": null,
            "justify_content": null,
            "justify_items": null,
            "left": null,
            "margin": null,
            "max_height": null,
            "max_width": null,
            "min_height": null,
            "min_width": null,
            "object_fit": null,
            "object_position": null,
            "order": null,
            "overflow": null,
            "overflow_x": null,
            "overflow_y": null,
            "padding": null,
            "right": null,
            "top": null,
            "visibility": null,
            "width": null
          }
        },
        "967c7431a0304acdb93e6f5790ff2052": {
          "model_module": "@jupyter-widgets/base",
          "model_module_version": "1.2.0",
          "model_name": "LayoutModel",
          "state": {
            "_model_module": "@jupyter-widgets/base",
            "_model_module_version": "1.2.0",
            "_model_name": "LayoutModel",
            "_view_count": null,
            "_view_module": "@jupyter-widgets/base",
            "_view_module_version": "1.2.0",
            "_view_name": "LayoutView",
            "align_content": null,
            "align_items": null,
            "align_self": null,
            "border": null,
            "bottom": null,
            "display": null,
            "flex": null,
            "flex_flow": null,
            "grid_area": null,
            "grid_auto_columns": null,
            "grid_auto_flow": null,
            "grid_auto_rows": null,
            "grid_column": null,
            "grid_gap": null,
            "grid_row": null,
            "grid_template_areas": null,
            "grid_template_columns": null,
            "grid_template_rows": null,
            "height": null,
            "justify_content": null,
            "justify_items": null,
            "left": null,
            "margin": null,
            "max_height": null,
            "max_width": null,
            "min_height": null,
            "min_width": null,
            "object_fit": null,
            "object_position": null,
            "order": null,
            "overflow": null,
            "overflow_x": null,
            "overflow_y": null,
            "padding": null,
            "right": null,
            "top": null,
            "visibility": null,
            "width": null
          }
        },
        "9ec779d3cd064f79961ba41ca0a12c5b": {
          "model_module": "@jupyter-widgets/controls",
          "model_module_version": "1.5.0",
          "model_name": "HTMLModel",
          "state": {
            "_dom_classes": [],
            "_model_module": "@jupyter-widgets/controls",
            "_model_module_version": "1.5.0",
            "_model_name": "HTMLModel",
            "_view_count": null,
            "_view_module": "@jupyter-widgets/controls",
            "_view_module_version": "1.5.0",
            "_view_name": "HTMLView",
            "description": "",
            "description_tooltip": null,
            "layout": "IPY_MODEL_57dc545ff08949e4bf41f6c4316c8d51",
            "placeholder": "​",
            "style": "IPY_MODEL_2740eb9e228f471784041830597ae456",
            "value": "Downloading: 100%"
          }
        },
        "a1895eb6d28b4c0382edca8eecbcff1d": {
          "model_module": "@jupyter-widgets/base",
          "model_module_version": "1.2.0",
          "model_name": "LayoutModel",
          "state": {
            "_model_module": "@jupyter-widgets/base",
            "_model_module_version": "1.2.0",
            "_model_name": "LayoutModel",
            "_view_count": null,
            "_view_module": "@jupyter-widgets/base",
            "_view_module_version": "1.2.0",
            "_view_name": "LayoutView",
            "align_content": null,
            "align_items": null,
            "align_self": null,
            "border": null,
            "bottom": null,
            "display": null,
            "flex": null,
            "flex_flow": null,
            "grid_area": null,
            "grid_auto_columns": null,
            "grid_auto_flow": null,
            "grid_auto_rows": null,
            "grid_column": null,
            "grid_gap": null,
            "grid_row": null,
            "grid_template_areas": null,
            "grid_template_columns": null,
            "grid_template_rows": null,
            "height": null,
            "justify_content": null,
            "justify_items": null,
            "left": null,
            "margin": null,
            "max_height": null,
            "max_width": null,
            "min_height": null,
            "min_width": null,
            "object_fit": null,
            "object_position": null,
            "order": null,
            "overflow": null,
            "overflow_x": null,
            "overflow_y": null,
            "padding": null,
            "right": null,
            "top": null,
            "visibility": null,
            "width": null
          }
        },
        "a612f52388634a6fa416decc31cb0e6a": {
          "model_module": "@jupyter-widgets/controls",
          "model_module_version": "1.5.0",
          "model_name": "DescriptionStyleModel",
          "state": {
            "_model_module": "@jupyter-widgets/controls",
            "_model_module_version": "1.5.0",
            "_model_name": "DescriptionStyleModel",
            "_view_count": null,
            "_view_module": "@jupyter-widgets/base",
            "_view_module_version": "1.2.0",
            "_view_name": "StyleView",
            "description_width": ""
          }
        },
        "a99e3904563d4aa6817e11852f03a2ad": {
          "model_module": "@jupyter-widgets/controls",
          "model_module_version": "1.5.0",
          "model_name": "ProgressStyleModel",
          "state": {
            "_model_module": "@jupyter-widgets/controls",
            "_model_module_version": "1.5.0",
            "_model_name": "ProgressStyleModel",
            "_view_count": null,
            "_view_module": "@jupyter-widgets/base",
            "_view_module_version": "1.2.0",
            "_view_name": "StyleView",
            "bar_color": null,
            "description_width": ""
          }
        },
        "b6fb6acaf0ed4b32a772e50d9fac27de": {
          "model_module": "@jupyter-widgets/controls",
          "model_module_version": "1.5.0",
          "model_name": "HTMLModel",
          "state": {
            "_dom_classes": [],
            "_model_module": "@jupyter-widgets/controls",
            "_model_module_version": "1.5.0",
            "_model_name": "HTMLModel",
            "_view_count": null,
            "_view_module": "@jupyter-widgets/controls",
            "_view_module_version": "1.5.0",
            "_view_name": "HTMLView",
            "description": "",
            "description_tooltip": null,
            "layout": "IPY_MODEL_6137dba1098f4b3c9ae7af4fd74f0d48",
            "placeholder": "​",
            "style": "IPY_MODEL_54469b0f451d47d5abfcb875f443e886",
            "value": " 213k/213k [00:00&lt;00:00, 286kB/s]"
          }
        },
        "b758369fcea54b87bad8b5dbf51ad482": {
          "model_module": "@jupyter-widgets/controls",
          "model_module_version": "1.5.0",
          "model_name": "HTMLModel",
          "state": {
            "_dom_classes": [],
            "_model_module": "@jupyter-widgets/controls",
            "_model_module_version": "1.5.0",
            "_model_name": "HTMLModel",
            "_view_count": null,
            "_view_module": "@jupyter-widgets/controls",
            "_view_module_version": "1.5.0",
            "_view_name": "HTMLView",
            "description": "",
            "description_tooltip": null,
            "layout": "IPY_MODEL_ce9fb37303f6471eaa7fdcabf92ad9e4",
            "placeholder": "​",
            "style": "IPY_MODEL_d852cef17f1940a7a8d1ee93a9e5a32e",
            "value": "Downloading: 100%"
          }
        },
        "b8605c403f8445fba66113367858c402": {
          "model_module": "@jupyter-widgets/controls",
          "model_module_version": "1.5.0",
          "model_name": "FloatProgressModel",
          "state": {
            "_dom_classes": [],
            "_model_module": "@jupyter-widgets/controls",
            "_model_module_version": "1.5.0",
            "_model_name": "FloatProgressModel",
            "_view_count": null,
            "_view_module": "@jupyter-widgets/controls",
            "_view_module_version": "1.5.0",
            "_view_name": "ProgressView",
            "bar_style": "success",
            "description": "",
            "description_tooltip": null,
            "layout": "IPY_MODEL_1d88e1819311485d91ef349e8c71583a",
            "max": 213450,
            "min": 0,
            "orientation": "horizontal",
            "style": "IPY_MODEL_d9c2400aec0d47dfbe2cc6cfccddbd85",
            "value": 213450
          }
        },
        "b96de3d5e0284e8cb6b367f9a13f77ea": {
          "model_module": "@jupyter-widgets/controls",
          "model_module_version": "1.5.0",
          "model_name": "HBoxModel",
          "state": {
            "_dom_classes": [],
            "_model_module": "@jupyter-widgets/controls",
            "_model_module_version": "1.5.0",
            "_model_name": "HBoxModel",
            "_view_count": null,
            "_view_module": "@jupyter-widgets/controls",
            "_view_module_version": "1.5.0",
            "_view_name": "HBoxView",
            "box_style": "",
            "children": [
              "IPY_MODEL_b758369fcea54b87bad8b5dbf51ad482",
              "IPY_MODEL_d2981ee2a148410f80ce770ed8cc7864",
              "IPY_MODEL_6b82d9b8610c439ea2ceff0b2de6152e"
            ],
            "layout": "IPY_MODEL_8f192690299341c1b312703380f20d63"
          }
        },
        "ce9fb37303f6471eaa7fdcabf92ad9e4": {
          "model_module": "@jupyter-widgets/base",
          "model_module_version": "1.2.0",
          "model_name": "LayoutModel",
          "state": {
            "_model_module": "@jupyter-widgets/base",
            "_model_module_version": "1.2.0",
            "_model_name": "LayoutModel",
            "_view_count": null,
            "_view_module": "@jupyter-widgets/base",
            "_view_module_version": "1.2.0",
            "_view_name": "LayoutView",
            "align_content": null,
            "align_items": null,
            "align_self": null,
            "border": null,
            "bottom": null,
            "display": null,
            "flex": null,
            "flex_flow": null,
            "grid_area": null,
            "grid_auto_columns": null,
            "grid_auto_flow": null,
            "grid_auto_rows": null,
            "grid_column": null,
            "grid_gap": null,
            "grid_row": null,
            "grid_template_areas": null,
            "grid_template_columns": null,
            "grid_template_rows": null,
            "height": null,
            "justify_content": null,
            "justify_items": null,
            "left": null,
            "margin": null,
            "max_height": null,
            "max_width": null,
            "min_height": null,
            "min_width": null,
            "object_fit": null,
            "object_position": null,
            "order": null,
            "overflow": null,
            "overflow_x": null,
            "overflow_y": null,
            "padding": null,
            "right": null,
            "top": null,
            "visibility": null,
            "width": null
          }
        },
        "cf2ff764d10c4a13890c4ce254fe835e": {
          "model_module": "@jupyter-widgets/controls",
          "model_module_version": "1.5.0",
          "model_name": "DescriptionStyleModel",
          "state": {
            "_model_module": "@jupyter-widgets/controls",
            "_model_module_version": "1.5.0",
            "_model_name": "DescriptionStyleModel",
            "_view_count": null,
            "_view_module": "@jupyter-widgets/base",
            "_view_module_version": "1.2.0",
            "_view_name": "StyleView",
            "description_width": ""
          }
        },
        "d08bfbcd2fac4700a7a1656a18f2ce98": {
          "model_module": "@jupyter-widgets/controls",
          "model_module_version": "1.5.0",
          "model_name": "ProgressStyleModel",
          "state": {
            "_model_module": "@jupyter-widgets/controls",
            "_model_module_version": "1.5.0",
            "_model_name": "ProgressStyleModel",
            "_view_count": null,
            "_view_module": "@jupyter-widgets/base",
            "_view_module_version": "1.2.0",
            "_view_name": "StyleView",
            "bar_color": null,
            "description_width": ""
          }
        },
        "d1b7b0dbb45544cfa649dbcf62cc49e8": {
          "model_module": "@jupyter-widgets/base",
          "model_module_version": "1.2.0",
          "model_name": "LayoutModel",
          "state": {
            "_model_module": "@jupyter-widgets/base",
            "_model_module_version": "1.2.0",
            "_model_name": "LayoutModel",
            "_view_count": null,
            "_view_module": "@jupyter-widgets/base",
            "_view_module_version": "1.2.0",
            "_view_name": "LayoutView",
            "align_content": null,
            "align_items": null,
            "align_self": null,
            "border": null,
            "bottom": null,
            "display": null,
            "flex": null,
            "flex_flow": null,
            "grid_area": null,
            "grid_auto_columns": null,
            "grid_auto_flow": null,
            "grid_auto_rows": null,
            "grid_column": null,
            "grid_gap": null,
            "grid_row": null,
            "grid_template_areas": null,
            "grid_template_columns": null,
            "grid_template_rows": null,
            "height": null,
            "justify_content": null,
            "justify_items": null,
            "left": null,
            "margin": null,
            "max_height": null,
            "max_width": null,
            "min_height": null,
            "min_width": null,
            "object_fit": null,
            "object_position": null,
            "order": null,
            "overflow": null,
            "overflow_x": null,
            "overflow_y": null,
            "padding": null,
            "right": null,
            "top": null,
            "visibility": null,
            "width": null
          }
        },
        "d2981ee2a148410f80ce770ed8cc7864": {
          "model_module": "@jupyter-widgets/controls",
          "model_module_version": "1.5.0",
          "model_name": "FloatProgressModel",
          "state": {
            "_dom_classes": [],
            "_model_module": "@jupyter-widgets/controls",
            "_model_module_version": "1.5.0",
            "_model_name": "FloatProgressModel",
            "_view_count": null,
            "_view_module": "@jupyter-widgets/controls",
            "_view_module_version": "1.5.0",
            "_view_name": "ProgressView",
            "bar_style": "success",
            "description": "",
            "description_tooltip": null,
            "layout": "IPY_MODEL_d98ad48a00c646478332779bf658a1f1",
            "max": 435779157,
            "min": 0,
            "orientation": "horizontal",
            "style": "IPY_MODEL_a99e3904563d4aa6817e11852f03a2ad",
            "value": 435779157
          }
        },
        "d852cef17f1940a7a8d1ee93a9e5a32e": {
          "model_module": "@jupyter-widgets/controls",
          "model_module_version": "1.5.0",
          "model_name": "DescriptionStyleModel",
          "state": {
            "_model_module": "@jupyter-widgets/controls",
            "_model_module_version": "1.5.0",
            "_model_name": "DescriptionStyleModel",
            "_view_count": null,
            "_view_module": "@jupyter-widgets/base",
            "_view_module_version": "1.2.0",
            "_view_name": "StyleView",
            "description_width": ""
          }
        },
        "d98ad48a00c646478332779bf658a1f1": {
          "model_module": "@jupyter-widgets/base",
          "model_module_version": "1.2.0",
          "model_name": "LayoutModel",
          "state": {
            "_model_module": "@jupyter-widgets/base",
            "_model_module_version": "1.2.0",
            "_model_name": "LayoutModel",
            "_view_count": null,
            "_view_module": "@jupyter-widgets/base",
            "_view_module_version": "1.2.0",
            "_view_name": "LayoutView",
            "align_content": null,
            "align_items": null,
            "align_self": null,
            "border": null,
            "bottom": null,
            "display": null,
            "flex": null,
            "flex_flow": null,
            "grid_area": null,
            "grid_auto_columns": null,
            "grid_auto_flow": null,
            "grid_auto_rows": null,
            "grid_column": null,
            "grid_gap": null,
            "grid_row": null,
            "grid_template_areas": null,
            "grid_template_columns": null,
            "grid_template_rows": null,
            "height": null,
            "justify_content": null,
            "justify_items": null,
            "left": null,
            "margin": null,
            "max_height": null,
            "max_width": null,
            "min_height": null,
            "min_width": null,
            "object_fit": null,
            "object_position": null,
            "order": null,
            "overflow": null,
            "overflow_x": null,
            "overflow_y": null,
            "padding": null,
            "right": null,
            "top": null,
            "visibility": null,
            "width": null
          }
        },
        "d9c2400aec0d47dfbe2cc6cfccddbd85": {
          "model_module": "@jupyter-widgets/controls",
          "model_module_version": "1.5.0",
          "model_name": "ProgressStyleModel",
          "state": {
            "_model_module": "@jupyter-widgets/controls",
            "_model_module_version": "1.5.0",
            "_model_name": "ProgressStyleModel",
            "_view_count": null,
            "_view_module": "@jupyter-widgets/base",
            "_view_module_version": "1.2.0",
            "_view_name": "StyleView",
            "bar_color": null,
            "description_width": ""
          }
        },
        "da32c765dbc74c1fab342276e38d5598": {
          "model_module": "@jupyter-widgets/controls",
          "model_module_version": "1.5.0",
          "model_name": "FloatProgressModel",
          "state": {
            "_dom_classes": [],
            "_model_module": "@jupyter-widgets/controls",
            "_model_module_version": "1.5.0",
            "_model_name": "FloatProgressModel",
            "_view_count": null,
            "_view_module": "@jupyter-widgets/controls",
            "_view_module_version": "1.5.0",
            "_view_name": "ProgressView",
            "bar_style": "success",
            "description": "",
            "description_tooltip": null,
            "layout": "IPY_MODEL_177bdf7bd65c4d44a6b1d04371f3717d",
            "max": 570,
            "min": 0,
            "orientation": "horizontal",
            "style": "IPY_MODEL_6ad9d229a35e434696274971552a6629",
            "value": 570
          }
        },
        "de5607cbb45d462cab81a8af01cb3a5f": {
          "model_module": "@jupyter-widgets/controls",
          "model_module_version": "1.5.0",
          "model_name": "DescriptionStyleModel",
          "state": {
            "_model_module": "@jupyter-widgets/controls",
            "_model_module_version": "1.5.0",
            "_model_name": "DescriptionStyleModel",
            "_view_count": null,
            "_view_module": "@jupyter-widgets/base",
            "_view_module_version": "1.2.0",
            "_view_name": "StyleView",
            "description_width": ""
          }
        },
        "e8a5225d453f46909c778439b3ad3d44": {
          "model_module": "@jupyter-widgets/base",
          "model_module_version": "1.2.0",
          "model_name": "LayoutModel",
          "state": {
            "_model_module": "@jupyter-widgets/base",
            "_model_module_version": "1.2.0",
            "_model_name": "LayoutModel",
            "_view_count": null,
            "_view_module": "@jupyter-widgets/base",
            "_view_module_version": "1.2.0",
            "_view_name": "LayoutView",
            "align_content": null,
            "align_items": null,
            "align_self": null,
            "border": null,
            "bottom": null,
            "display": null,
            "flex": null,
            "flex_flow": null,
            "grid_area": null,
            "grid_auto_columns": null,
            "grid_auto_flow": null,
            "grid_auto_rows": null,
            "grid_column": null,
            "grid_gap": null,
            "grid_row": null,
            "grid_template_areas": null,
            "grid_template_columns": null,
            "grid_template_rows": null,
            "height": null,
            "justify_content": null,
            "justify_items": null,
            "left": null,
            "margin": null,
            "max_height": null,
            "max_width": null,
            "min_height": null,
            "min_width": null,
            "object_fit": null,
            "object_position": null,
            "order": null,
            "overflow": null,
            "overflow_x": null,
            "overflow_y": null,
            "padding": null,
            "right": null,
            "top": null,
            "visibility": null,
            "width": null
          }
        },
        "faabb42a1fef40818a0bbffab6fbfb2e": {
          "model_module": "@jupyter-widgets/base",
          "model_module_version": "1.2.0",
          "model_name": "LayoutModel",
          "state": {
            "_model_module": "@jupyter-widgets/base",
            "_model_module_version": "1.2.0",
            "_model_name": "LayoutModel",
            "_view_count": null,
            "_view_module": "@jupyter-widgets/base",
            "_view_module_version": "1.2.0",
            "_view_name": "LayoutView",
            "align_content": null,
            "align_items": null,
            "align_self": null,
            "border": null,
            "bottom": null,
            "display": null,
            "flex": null,
            "flex_flow": null,
            "grid_area": null,
            "grid_auto_columns": null,
            "grid_auto_flow": null,
            "grid_auto_rows": null,
            "grid_column": null,
            "grid_gap": null,
            "grid_row": null,
            "grid_template_areas": null,
            "grid_template_columns": null,
            "grid_template_rows": null,
            "height": null,
            "justify_content": null,
            "justify_items": null,
            "left": null,
            "margin": null,
            "max_height": null,
            "max_width": null,
            "min_height": null,
            "min_width": null,
            "object_fit": null,
            "object_position": null,
            "order": null,
            "overflow": null,
            "overflow_x": null,
            "overflow_y": null,
            "padding": null,
            "right": null,
            "top": null,
            "visibility": null,
            "width": null
          }
        }
      }
    }
  },
  "nbformat": 4,
  "nbformat_minor": 0
}
